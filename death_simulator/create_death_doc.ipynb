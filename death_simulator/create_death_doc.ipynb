{
 "cells": [
  {
   "cell_type": "code",
   "execution_count": 3,
   "metadata": {},
   "outputs": [],
   "source": [
    "import os\n",
    "import pdfrw\n",
    "\n",
    "\n",
    "\n",
    "\n",
    "\n",
    "ANNOT_KEY = '/Annots'\n",
    "ANNOT_FIELD_KEY = '/T'\n",
    "ANNOT_VAL_KEY = '/V'\n",
    "ANNOT_RECT_KEY = '/Rect'\n",
    "SUBTYPE_KEY = '/Subtype'\n",
    "WIDGET_SUBTYPE_KEY = '/Widget'\n",
    "\n",
    "\n",
    "def write_fillable_pdf(input_pdf_path, output_pdf_path, data_dict):\n",
    "    template_pdf = pdfrw.PdfReader(input_pdf_path)\n",
    "    annotations = template_pdf.pages[0][ANNOT_KEY]\n",
    "    for annotation in annotations:\n",
    "        if annotation[SUBTYPE_KEY] == WIDGET_SUBTYPE_KEY:\n",
    "            if annotation[ANNOT_FIELD_KEY]:\n",
    "                key = annotation[ANNOT_FIELD_KEY][1:-1]\n",
    "                if key in data_dict.keys():\n",
    "                    annotation.update(\n",
    "                        pdfrw.PdfDict(AP=data_dict[key], V=data_dict[key])\n",
    "                    )    \n",
    "    pdfrw.PdfWriter().write(output_pdf_path, template_pdf)\n",
    "\n",
    "\n",
    "\n",
    "data_dict = {\n",
    "   'introduction': 'The team would like to make an announcement of your death',\n",
    "   'name': 'Grim Reaper',\n",
    "   'description': 'Unfortunately by death by having too much fun, you die at 0 year 0 months 1 day from today or at YY/MM/DD'\n",
    "}\n",
    "\n",
    "INVOICE_TEMPLATE_PATH = '../docs/death_certificate_template.pdf'\n",
    "INVOICE_OUTPUT_PATH = \"../docs/death_certificate_{fname}.pdf\".format(fname = data_dict['name'])\n",
    "\n",
    "if __name__ == '__main__':\n",
    "    write_fillable_pdf(INVOICE_TEMPLATE_PATH, INVOICE_OUTPUT_PATH, data_dict)"
   ]
  },
  {
   "cell_type": "code",
   "execution_count": 2,
   "metadata": {},
   "outputs": [
    {
     "name": "stdout",
     "output_type": "stream",
     "text": [
      "Collecting pdfrw\n",
      "\u001b[?25l  Downloading https://files.pythonhosted.org/packages/c0/84/af442c4458756bb0c0d2424102d1200616f3ff9b82c48aaa130e08549bf6/pdfrw-0.4-py2.py3-none-any.whl (69kB)\n",
      "\u001b[K    100% |████████████████████████████████| 71kB 3.7MB/s ta 0:00:01\n",
      "\u001b[?25hInstalling collected packages: pdfrw\n",
      "Successfully installed pdfrw-0.4\n"
     ]
    }
   ],
   "source": [
    "!pip install pdfrw"
   ]
  },
  {
   "cell_type": "code",
   "execution_count": null,
   "metadata": {},
   "outputs": [],
   "source": []
  }
 ],
 "metadata": {
  "kernelspec": {
   "display_name": "Python 3",
   "language": "python",
   "name": "python3"
  },
  "language_info": {
   "codemirror_mode": {
    "name": "ipython",
    "version": 3
   },
   "file_extension": ".py",
   "mimetype": "text/x-python",
   "name": "python",
   "nbconvert_exporter": "python",
   "pygments_lexer": "ipython3",
   "version": "3.7.1"
  }
 },
 "nbformat": 4,
 "nbformat_minor": 4
}
