{
 "cells": [
  {
   "cell_type": "markdown",
   "metadata": {},
   "source": [
    "## Version 1 of the Death Simulator front end via Jupyter Notebooks + ipywidgets + Binder"
   ]
  },
  {
   "cell_type": "markdown",
   "metadata": {},
   "source": [
    "Reference: https://towardsdatascience.com/interactive-controls-for-jupyter-notebooks-f5c94829aee6"
   ]
  },
  {
   "cell_type": "code",
   "execution_count": 1,
   "metadata": {},
   "outputs": [],
   "source": [
    "#THESE NEED TO BE IN THE REQUIREMENTS.TXT\n",
    "\n",
    "import ipywidgets as widgets\n",
    "from ipywidgets import interact, interact_manual\n",
    "\n",
    "import pandas as pd\n",
    "import numpy as np\n",
    "import placehold_deathSimulator\n",
    "import print_death_cert\n",
    "input_options_dict = placehold_deathSimulator.fn_send_input_options()\n",
    "\n",
    "#this is for enabling user download of PDF\n",
    "from IPython.core.display import display, HTML\n",
    "\n",
    "#import dict of input options from the backend python module"
   ]
  },
  {
   "cell_type": "code",
   "execution_count": 2,
   "metadata": {},
   "outputs": [],
   "source": [
    "#TODO\n",
    "#1. Function in backend that accepts the input list and returns the output list\n",
    "#2. Unit test around this function to do validation\n",
    "#3. figure out how to use ipywidgets to generate the collected inputs dict\n",
    "#4. heavily test binder\n",
    "\n",
    "#Enable dark theme in Jupyter in Binder#\n",
    "#INCLUDE jupyterthemes\n",
    "#postBuild file in Binder to run this shell command \"jt -t chesterish\""
   ]
  },
  {
   "cell_type": "code",
   "execution_count": null,
   "metadata": {},
   "outputs": [],
   "source": [
    "@interact_manual\n",
    "def collect_inputs_manual_gen(Age=input_options_dict[\"age\"],\n",
    "                              Occupation=sorted(input_options_dict[\"occupation\"]),\n",
    "                              Gender=sorted(input_options_dict[\"new_gender\"]),\n",
    "                              Race=sorted(input_options_dict[\"race\"]),\n",
    "                              Exercise=sorted(input_options_dict[\"exercise\"]),\n",
    "                              BMI=sorted(input_options_dict[\"bmi\"]),\n",
    "                              Height=sorted(input_options_dict[\"height\"]),\n",
    "                              #be careful of how this is sorted\n",
    "                              Weight=sorted(input_options_dict[\"weight\"]),\n",
    "                              McDonalds=sorted(input_options_dict[\"mcdonalds\"])):\n",
    "    input_options_dict = {'age':Age, 'job':Occupation, 'gender':Gender, 'race':Race, 'exc':Exercise, 'bmi':BMI, 'height':Height, 'weight':Weight,'McD': McDonalds}\n",
    "    #return \"You will die of Atherosclerotic heart disease at the age of 88 years old on May 20th, 2080\"\n",
    "    return placehold_deathSimulator.fn_send_output_string(input_options_dict)['result'], display(HTML(\"\"\"<a href=\"../docs/death_certificate_{}.pdf\">Right-Click and Save Link As... to download your Pre-Death Certificate</a>\"\"\".format(placehold_deathSimulator.fn_send_output_string(input_options_dict)['name'].replace(\" \", \"%20\"))))\n"
   ]
  },
  {
   "cell_type": "code",
   "execution_count": null,
   "metadata": {},
   "outputs": [],
   "source": []
  },
  {
   "cell_type": "code",
   "execution_count": 5,
   "metadata": {},
   "outputs": [
    {
     "ename": "NameError",
     "evalue": "name 'name' is not defined",
     "output_type": "error",
     "traceback": [
      "\u001b[0;31m---------------------------------------------------------------------------\u001b[0m",
      "\u001b[0;31mNameError\u001b[0m                                 Traceback (most recent call last)",
      "\u001b[0;32m<ipython-input-5-6a790586a36e>\u001b[0m in \u001b[0;36m<module>\u001b[0;34m\u001b[0m\n\u001b[1;32m      1\u001b[0m \u001b[0;31m#TODO: need to dynamically determine the URL of the Binder instance to give the href url below\u001b[0m\u001b[0;34m\u001b[0m\u001b[0;34m\u001b[0m\u001b[0;34m\u001b[0m\u001b[0m\n\u001b[0;32m----> 2\u001b[0;31m \u001b[0mdisplay\u001b[0m\u001b[0;34m(\u001b[0m\u001b[0mHTML\u001b[0m\u001b[0;34m(\u001b[0m\u001b[0;34m\"\"\"<a href=\"../docs/death_certificate_{}.pdf\">Right-Click and Save Link As... to download your Pre-Death Certificate</a>\"\"\"\u001b[0m\u001b[0;34m.\u001b[0m\u001b[0mformat\u001b[0m\u001b[0;34m(\u001b[0m\u001b[0mname\u001b[0m\u001b[0;34m.\u001b[0m\u001b[0mreplace\u001b[0m\u001b[0;34m(\u001b[0m\u001b[0;34m\" \"\u001b[0m\u001b[0;34m,\u001b[0m \u001b[0;34m\"%20\"\u001b[0m\u001b[0;34m)\u001b[0m\u001b[0;34m)\u001b[0m\u001b[0;34m)\u001b[0m\u001b[0;34m)\u001b[0m\u001b[0;34m\u001b[0m\u001b[0;34m\u001b[0m\u001b[0m\n\u001b[0m\u001b[1;32m      3\u001b[0m \u001b[0;34m\u001b[0m\u001b[0m\n\u001b[1;32m      4\u001b[0m \u001b[0;34m\u001b[0m\u001b[0m\n\u001b[1;32m      5\u001b[0m \u001b[0;34m\u001b[0m\u001b[0m\n",
      "\u001b[0;31mNameError\u001b[0m: name 'name' is not defined"
     ]
    }
   ],
   "source": [
    "#TODO: need to dynamically determine the URL of the Binder instance to give the href url below\n",
    "display(HTML(\"\"\"<a href=\"../docs/death_certificate_{}.pdf\">Right-Click and Save Link As... to download your Pre-Death Certificate</a>\"\"\".format(name.replace(\" \", \"%20\")))"
   ]
  },
  {
   "cell_type": "code",
   "execution_count": null,
   "metadata": {},
   "outputs": [],
   "source": []
  },
  {
   "cell_type": "code",
   "execution_count": null,
   "metadata": {},
   "outputs": [],
   "source": []
  },
  {
   "cell_type": "code",
   "execution_count": null,
   "metadata": {},
   "outputs": [],
   "source": []
  },
  {
   "cell_type": "code",
   "execution_count": null,
   "metadata": {},
   "outputs": [],
   "source": []
  },
  {
   "cell_type": "code",
   "execution_count": null,
   "metadata": {},
   "outputs": [],
   "source": []
  },
  {
   "cell_type": "code",
   "execution_count": null,
   "metadata": {},
   "outputs": [],
   "source": []
  },
  {
   "cell_type": "code",
   "execution_count": null,
   "metadata": {},
   "outputs": [],
   "source": []
  },
  {
   "cell_type": "code",
   "execution_count": null,
   "metadata": {},
   "outputs": [],
   "source": [
    "#TODO: need to dynamically determine the URL of the Binder instance to give the href url below\n",
    "display(HTML(\"\"\"<a href=\"https://github.com/ThomasWinegarden/death_simulator/raw/master/docs/death_certificate_template.pdf\">Download your Pre-Death Certificate</a>\"\"\"))"
   ]
  },
  {
   "cell_type": "code",
   "execution_count": null,
   "metadata": {},
   "outputs": [],
   "source": [
    "#Column 6 has mixed types! deaths? population? Ignoring warning for now\n",
    "df = pd.read_csv('../data/deaths_age_gender_race_mechanism_cause.csv')\n",
    "occ_df = pd.read_csv('../data/job_indexed_likelihood.csv')"
   ]
  },
  {
   "cell_type": "code",
   "execution_count": null,
   "metadata": {},
   "outputs": [],
   "source": [
    "occ_df"
   ]
  },
  {
   "cell_type": "code",
   "execution_count": null,
   "metadata": {},
   "outputs": [],
   "source": [
    "occ_df   str.replace(\"occupations\", \"\")"
   ]
  },
  {
   "cell_type": "code",
   "execution_count": null,
   "metadata": {},
   "outputs": [],
   "source": [
    "occ_df[\"occupation\"] = occ_df.occupation.str.replace(\" occupations\", \"\")"
   ]
  },
  {
   "cell_type": "code",
   "execution_count": null,
   "metadata": {},
   "outputs": [],
   "source": [
    "occ_df = occ_df.sorted()"
   ]
  },
  {
   "cell_type": "markdown",
   "metadata": {},
   "source": [
    "### The idea is to walk the user through selecting the parameters that define themself or their hypothetical person.\n",
    "1. First we will ask for their exact date of birth (false precision, we will calc age off of that)\n",
    "2. Then gender\n",
    "    make sure to include unspecified\n",
    "3. Then we will ask them to select their occupation from the list of occupations\n",
    "4. Then race\n",
    "--- False inputs ---\n",
    "5. Regular exercise\n",
    "6. BMI\n",
    "7. Height + Weight\n",
    "8. Are you a McDonalds regular?\n",
    "9. Diabetic boolean\n",
    "\n",
    "\n",
    "\n"
   ]
  },
  {
   "cell_type": "code",
   "execution_count": null,
   "metadata": {},
   "outputs": [],
   "source": [
    "special = {'exercise': ['Daily','5 times a week','4 times a week','couple times a week', 'rarely', 'never'],\n",
    "           'bmi': [18,19,20,21,22,23],\n",
    "           'height': ['3ft something', '4ft something', '5ft something', '6ft something', '7ft something', '8ft something'],\n",
    "           'weight': ['less than 150lbs', 'around 160lbs', 'around 170lbs', 'around 180lbs', 'around 190lbs', '200lbs or larger'],\n",
    "           'diabetic': ['Yes', 'No', 'Yes', 'No', 'Yes', 'No'],\n",
    "           'mcdonalds': ['Today', 'Yesterday', 'Recently', 'Last Month', 'Never', 'McDonalds?'],\n",
    "           'new_gender': ['Female', 'Male', 'Unspecified', 'Non-Binary', 'Male', 'Male']\n",
    "        }\n",
    "\n",
    "s_df = pd.DataFrame(special, columns = ['exercise', 'bmi', 'height', 'weight', 'diabetic', 'mcdonalds', 'new_gender'])\n"
   ]
  },
  {
   "cell_type": "code",
   "execution_count": null,
   "metadata": {
    "scrolled": false
   },
   "outputs": [],
   "source": [
    "s_df"
   ]
  },
  {
   "cell_type": "code",
   "execution_count": null,
   "metadata": {
    "scrolled": false
   },
   "outputs": [],
   "source": [
    "#placehold_s_df = placehold.fn_send_input_options()\n",
    "#placehold_s_df"
   ]
  },
  {
   "cell_type": "code",
   "execution_count": null,
   "metadata": {},
   "outputs": [],
   "source": [
    "#s_df = placehold_s_df"
   ]
  },
  {
   "cell_type": "code",
   "execution_count": null,
   "metadata": {},
   "outputs": [],
   "source": []
  },
  {
   "cell_type": "code",
   "execution_count": null,
   "metadata": {},
   "outputs": [],
   "source": [
    "input_options_dict"
   ]
  },
  {
   "cell_type": "code",
   "execution_count": null,
   "metadata": {},
   "outputs": [],
   "source": [
    "input_options_dict = placehold.fn_send_input_options()\n",
    "@interact_manual\n",
    "def collect_inputs_manual_gen(Age=input_options_dict[\"age\"],\n",
    "                              Occupation=sorted(input_options_dict[\"occupation\"]),\n",
    "                              Gender=sorted(input_options_dict[\"new_gender\"]),\n",
    "                              Race=sorted(input_options_dict[\"race\"]),\n",
    "                              Exercise=sorted(input_options_dict[\"exercise\"]),\n",
    "                              BMI=sorted(input_options_dict[\"bmi\"]),\n",
    "                              Height=sorted(input_options_dict[\"height\"]),\n",
    "                              #be careful of how this is sorted\n",
    "                              Weight=sorted(input_options_dict[\"weight\"]),\n",
    "                              McDonalds=sorted(input_options_dict[\"mcdonalds\"])):\n",
    "    return \"You will die of Atherosclerotic heart disease at the age of 88 years old on May 20th, 2080\"   "
   ]
  },
  {
   "cell_type": "markdown",
   "metadata": {},
   "source": [
    "Below is an example of ipywidgets interactive drop downs. I've intentionally made this example with a manual button.\n",
    "\n",
    "Some ideas for UI:\n",
    "1. Showing a live viz of the sim through your life, highlighting where you almost rolled a death!\n",
    "2. Highlighting how you stack up in estimated lifespan as you select parameters\n",
    "3. Storing for your viewing your previous simulation inputs and outputs\n",
    "4. ONLY RUN ONCE, PRE-DEATH CERTIFICATE\n",
    "    Limit based on name\n",
    "\n",
    "TODO dev:\n",
    "1. hardcoded parameter selectors INCLUDING OCCUPATION (or another interesting input)\n",
    "2. Binder\n",
    "3. Themes\n",
    "3. import both sim modules; build these in to interact\n",
    "    Does Binder allow you to run module functions outside of the notebook?\n",
    "4. unit testing\n",
    "5. git hub actions CI\n"
   ]
  },
  {
   "cell_type": "markdown",
   "metadata": {},
   "source": [
    "1. send list to module with 4 params\n",
    "2. Date, mechanism, cause come back as list or df\n",
    "3. Interact manual button then generates Death Cert"
   ]
  },
  {
   "cell_type": "code",
   "execution_count": null,
   "metadata": {},
   "outputs": [],
   "source": [
    "@interact_manual\n",
    "def collect_inputs_manual_gen(Age=df.age.unique(),\n",
    "                              Occupation=sorted(occ_df.occupation.unique()),\n",
    "                              Gender=sorted(s_df.new_gender.unique()),\n",
    "                             Race=sorted(df.race.unique()),\n",
    "                             Exercise=sorted(s_df.exercise.unique()),\n",
    "                             BMI=sorted(s_df.bmi.unique()),\n",
    "                             Height=sorted(s_df.height.unique()),\n",
    "                              #be careful of how this is sorted\n",
    "                             Weight=sorted(s_df.weight.unique()),\n",
    "                             McDonalds=sorted(s_df.mcdonalds.unique())):\n",
    "    return \"You will die of Atherosclerotic heart disease at the age of 88 years old on May 20th, 2080\"   "
   ]
  },
  {
   "cell_type": "code",
   "execution_count": null,
   "metadata": {},
   "outputs": [],
   "source": [
    "\n",
    "@interact\n",
    "def show_deaths_more_than(column='deaths', x=5000):\n",
    "    return df.loc[df[column] > x]"
   ]
  },
  {
   "cell_type": "markdown",
   "metadata": {},
   "source": [
    "occ: 21\n",
    "gender: 2\n",
    "race: 4\n",
    "age: 101"
   ]
  },
  {
   "cell_type": "code",
   "execution_count": null,
   "metadata": {},
   "outputs": [],
   "source": [
    "occ = occ_df.occupation"
   ]
  },
  {
   "cell_type": "code",
   "execution_count": null,
   "metadata": {},
   "outputs": [],
   "source": [
    "s = {'exercise': ['Daily','5 times a week','4 times a week','couple times a week', 'rarely', 'never'],\n",
    "           'bmi': [18,19,20,21,22,23],\n",
    "           'height': ['3ft something', '4ft something', '5ft something', '6ft something', '7ft something', '8ft something'],\n",
    "           'weight': ['less than 150lbs', 'around 160lbs', 'around 170lbs', 'around 180lbs', 'around 190lbs', '200lbs or larger'],\n",
    "           'diabetic': ['Yes', 'No', 'Yes', 'No', 'Yes', 'No'],\n",
    "           'mcdonalds': ['Today', 'Yesterday', 'Recently', 'Last Month', 'Never', 'McDonalds?'],\n",
    "           'new_gender': ['Female', 'Male', 'Unspecified', 'Non-Binary', 'Male', 'Male']\n",
    "        }\n",
    "    "
   ]
  },
  {
   "cell_type": "code",
   "execution_count": null,
   "metadata": {},
   "outputs": [],
   "source": [
    "s[\"occupation\"] = list(occ_df.occupation.unique())"
   ]
  },
  {
   "cell_type": "code",
   "execution_count": null,
   "metadata": {
    "scrolled": true
   },
   "outputs": [],
   "source": [
    "s"
   ]
  },
  {
   "cell_type": "code",
   "execution_count": null,
   "metadata": {},
   "outputs": [],
   "source": []
  },
  {
   "cell_type": "code",
   "execution_count": null,
   "metadata": {},
   "outputs": [],
   "source": [
    "s[\"age\"] = list(df.age.unique())"
   ]
  },
  {
   "cell_type": "code",
   "execution_count": null,
   "metadata": {},
   "outputs": [],
   "source": []
  },
  {
   "cell_type": "code",
   "execution_count": null,
   "metadata": {},
   "outputs": [],
   "source": [
    "s[\"race\"] = list(df.race.unique())"
   ]
  },
  {
   "cell_type": "code",
   "execution_count": null,
   "metadata": {},
   "outputs": [],
   "source": [
    "df.head()"
   ]
  },
  {
   "cell_type": "code",
   "execution_count": null,
   "metadata": {},
   "outputs": [],
   "source": [
    "df.race.unique()"
   ]
  },
  {
   "cell_type": "code",
   "execution_count": null,
   "metadata": {},
   "outputs": [],
   "source": [
    "@interact_manual\n",
    "def collect_inputs_manual_gen(row1=df.race.unique()):\n",
    "    return \"testing\""
   ]
  },
  {
   "cell_type": "code",
   "execution_count": null,
   "metadata": {},
   "outputs": [],
   "source": [
    "@interact_manual\n",
    "def collect_inputs_manual_gen(Race=df.race.unique(),\n",
    "                              Age=df.age.unique(),\n",
    "                              Gender=df.gender.unique()):\n",
    "    return \"You will die of Atherosclerotic heart disease at the age of 88 years old on May 20th, 2080\"    "
   ]
  },
  {
   "cell_type": "code",
   "execution_count": null,
   "metadata": {},
   "outputs": [],
   "source": []
  },
  {
   "cell_type": "code",
   "execution_count": null,
   "metadata": {},
   "outputs": [],
   "source": [
    "@interact_manual\n",
    "def collect_inputs_manual_gen(Age=input_options_dict[\"age\"],\n",
    "                              Occupation=sorted(input_options_dict[\"occupation\"]),\n",
    "                              Gender=sorted(input_options_dict[\"new_gender\"]),\n",
    "                              Race=sorted(input_options_dict[\"race\"]),\n",
    "                              Exercise=sorted(input_options_dict[\"exercise\"]),\n",
    "                              BMI=sorted(input_options_dict[\"bmi\"]),\n",
    "                              Height=sorted(input_options_dict[\"height\"]),\n",
    "                              #be careful of how this is sorted\n",
    "                              Weight=sorted(input_options_dict[\"weight\"]),\n",
    "                              McDonalds=sorted(input_options_dict[\"mcdonalds\"])):\n",
    "    input_options_dict = {Age, Occupation, Gender, Race, Exercise, BMI, Height, Weight, McDonalds}\n",
    "    #return \"You will die of Atherosclerotic heart disease at the age of 88 years old on May 20th, 2080\"\n",
    "    return placehold.fn_send_output_string(input_options_dict)"
   ]
  },
  {
   "cell_type": "code",
   "execution_count": null,
   "metadata": {},
   "outputs": [],
   "source": [
    "widgets.Text(\n",
    "    value='Hello World',\n",
    "    placeholder='Type something',\n",
    "    description='String:',\n",
    "    disabled=False\n",
    ")"
   ]
  },
  {
   "cell_type": "code",
   "execution_count": null,
   "metadata": {},
   "outputs": [],
   "source": []
  }
 ],
 "metadata": {
  "kernelspec": {
   "display_name": "Python 3",
   "language": "python",
   "name": "python3"
  },
  "language_info": {
   "codemirror_mode": {
    "name": "ipython",
    "version": 3
   },
   "file_extension": ".py",
   "mimetype": "text/x-python",
   "name": "python",
   "nbconvert_exporter": "python",
   "pygments_lexer": "ipython3",
   "version": "3.7.4"
  }
 },
 "nbformat": 4,
 "nbformat_minor": 2
}
