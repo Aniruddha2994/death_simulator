{
 "cells": [
  {
   "cell_type": "markdown",
   "metadata": {},
   "source": [
    "# Indexed Liklihood and Probability Converter\n",
    "This script converts the Bureau of Labor Statistics (BLS) `occupational_hazards_data.csv` dataset into an index of likelihoods to die by each occupation and converts the Center for Disease Control (CDC) `deaths_age_gender_race_mechanism_cause.csv` dataset into annual probabilities of death by age, gender, and race.  \n",
    "\n",
    "The `death_simulator.py` script has a function which accepts the user input for birthdate (converted to age in days), gender, race, and occupation (as well as other unused inputs). These inputs are used to subset to the relevant rows of data from the CDC and BLS datasets. Next, the annual probabilities are converted into daily probabilities of dying by age (in days), gender, and race this is modulated by the indexed probability of dying by occupation. Dice rolls are made for death on each day and if death happens, then a weighted probability roll is done to determine the specific mechanism and cause of death. If timer permits, the mechanism of death probability will be modulated by the occupation."
   ]
  },
  {
   "cell_type": "code",
   "execution_count": 1,
   "metadata": {},
   "outputs": [],
   "source": [
    "import pandas as pd\n",
    "import numpy as np"
   ]
  },
  {
   "cell_type": "code",
   "execution_count": 2,
   "metadata": {},
   "outputs": [],
   "source": [
    "job_deaths = pd.read_csv(\"../data/occupational_hazards_data.csv\")"
   ]
  },
  {
   "cell_type": "code",
   "execution_count": 3,
   "metadata": {},
   "outputs": [],
   "source": [
    "cdc_deaths = pd.read_csv(\"../data/deaths_age_gender_race_mechanism_cause.csv\")"
   ]
  },
  {
   "cell_type": "markdown",
   "metadata": {},
   "source": [
    "### Cleaning the BLS Data"
   ]
  },
  {
   "cell_type": "markdown",
   "metadata": {},
   "source": [
    "First, the data needs to be subset to the highest hierarchy level (level 0) since lower hierarchy levels provide too many options from which the user needs to choose (i.e. a dropdon menu of 200+ occupations is too many).  Level 0 provides 21 occupations and is hence, much more reasonable and less frustrating for the user to select from."
   ]
  },
  {
   "cell_type": "code",
   "execution_count": 4,
   "metadata": {
    "scrolled": false
   },
   "outputs": [
    {
     "data": {
      "text/html": [
       "<div>\n",
       "<style scoped>\n",
       "    .dataframe tbody tr th:only-of-type {\n",
       "        vertical-align: middle;\n",
       "    }\n",
       "\n",
       "    .dataframe tbody tr th {\n",
       "        vertical-align: top;\n",
       "    }\n",
       "\n",
       "    .dataframe thead th {\n",
       "        text-align: right;\n",
       "    }\n",
       "</style>\n",
       "<table border=\"1\" class=\"dataframe\">\n",
       "  <thead>\n",
       "    <tr style=\"text-align: right;\">\n",
       "      <th></th>\n",
       "      <th>occupation</th>\n",
       "      <th>hierarchy_level</th>\n",
       "      <th>mechanism_of_death</th>\n",
       "      <th>deaths</th>\n",
       "      <th>population</th>\n",
       "    </tr>\n",
       "  </thead>\n",
       "  <tbody>\n",
       "    <tr>\n",
       "      <th>0</th>\n",
       "      <td>Total</td>\n",
       "      <td>0</td>\n",
       "      <td>Total</td>\n",
       "      <td>5250</td>\n",
       "      <td>161,038</td>\n",
       "    </tr>\n",
       "    <tr>\n",
       "      <th>1</th>\n",
       "      <td>Total</td>\n",
       "      <td>0</td>\n",
       "      <td>Cut/Pierce</td>\n",
       "      <td>828</td>\n",
       "      <td>161,038</td>\n",
       "    </tr>\n",
       "    <tr>\n",
       "      <th>2</th>\n",
       "      <td>Total</td>\n",
       "      <td>0</td>\n",
       "      <td>Motor Vehicle Traffic</td>\n",
       "      <td>2080</td>\n",
       "      <td>161,038</td>\n",
       "    </tr>\n",
       "    <tr>\n",
       "      <th>3</th>\n",
       "      <td>Total</td>\n",
       "      <td>0</td>\n",
       "      <td>Fire/Flame</td>\n",
       "      <td>115</td>\n",
       "      <td>161,038</td>\n",
       "    </tr>\n",
       "    <tr>\n",
       "      <th>4</th>\n",
       "      <td>Total</td>\n",
       "      <td>0</td>\n",
       "      <td>Fall</td>\n",
       "      <td>791</td>\n",
       "      <td>161,038</td>\n",
       "    </tr>\n",
       "  </tbody>\n",
       "</table>\n",
       "</div>"
      ],
      "text/plain": [
       "  occupation  hierarchy_level     mechanism_of_death  deaths population\n",
       "0      Total                0                  Total    5250    161,038\n",
       "1      Total                0             Cut/Pierce     828    161,038\n",
       "2      Total                0  Motor Vehicle Traffic    2080    161,038\n",
       "3      Total                0             Fire/Flame     115    161,038\n",
       "4      Total                0                   Fall     791    161,038"
      ]
     },
     "execution_count": 4,
     "metadata": {},
     "output_type": "execute_result"
    }
   ],
   "source": [
    "job_deaths.head()"
   ]
  },
  {
   "cell_type": "code",
   "execution_count": 5,
   "metadata": {},
   "outputs": [],
   "source": [
    "job_deaths = job_deaths[job_deaths['hierarchy_level']==0]"
   ]
  },
  {
   "cell_type": "markdown",
   "metadata": {},
   "source": [
    "With subsetting complete, the hierarchy levels are no longer needed."
   ]
  },
  {
   "cell_type": "code",
   "execution_count": 6,
   "metadata": {
    "scrolled": true
   },
   "outputs": [],
   "source": [
    "del job_deaths['hierarchy_level']"
   ]
  },
  {
   "cell_type": "markdown",
   "metadata": {},
   "source": [
    "Currently, population is a string with commas and needs to be converted to an integer for calculations."
   ]
  },
  {
   "cell_type": "code",
   "execution_count": 7,
   "metadata": {},
   "outputs": [],
   "source": [
    "job_deaths.population = job_deaths.population.str.replace(',', '').astype('int')"
   ]
  },
  {
   "cell_type": "markdown",
   "metadata": {},
   "source": [
    "Because we're only interested in the indexed liklihood of dying by occupation, we won't need the `occupation == 'Total'` rows.  "
   ]
  },
  {
   "cell_type": "code",
   "execution_count": 8,
   "metadata": {},
   "outputs": [],
   "source": [
    "job_deaths = job_deaths[job_deaths.occupation != 'Total']"
   ]
  },
  {
   "cell_type": "code",
   "execution_count": 9,
   "metadata": {},
   "outputs": [
    {
     "data": {
      "text/html": [
       "<div>\n",
       "<style scoped>\n",
       "    .dataframe tbody tr th:only-of-type {\n",
       "        vertical-align: middle;\n",
       "    }\n",
       "\n",
       "    .dataframe tbody tr th {\n",
       "        vertical-align: top;\n",
       "    }\n",
       "\n",
       "    .dataframe thead th {\n",
       "        text-align: right;\n",
       "    }\n",
       "</style>\n",
       "<table border=\"1\" class=\"dataframe\">\n",
       "  <thead>\n",
       "    <tr style=\"text-align: right;\">\n",
       "      <th></th>\n",
       "      <th>occupation</th>\n",
       "      <th>mechanism_of_death</th>\n",
       "      <th>deaths</th>\n",
       "      <th>population</th>\n",
       "    </tr>\n",
       "  </thead>\n",
       "  <tbody>\n",
       "    <tr>\n",
       "      <th>7</th>\n",
       "      <td>Management occupations</td>\n",
       "      <td>Total</td>\n",
       "      <td>387</td>\n",
       "      <td>10193</td>\n",
       "    </tr>\n",
       "    <tr>\n",
       "      <th>8</th>\n",
       "      <td>Management occupations</td>\n",
       "      <td>Cut/Pierce</td>\n",
       "      <td>82</td>\n",
       "      <td>10193</td>\n",
       "    </tr>\n",
       "    <tr>\n",
       "      <th>9</th>\n",
       "      <td>Management occupations</td>\n",
       "      <td>Motor Vehicle Traffic</td>\n",
       "      <td>159</td>\n",
       "      <td>10193</td>\n",
       "    </tr>\n",
       "    <tr>\n",
       "      <th>10</th>\n",
       "      <td>Management occupations</td>\n",
       "      <td>Fire/Flame</td>\n",
       "      <td>14</td>\n",
       "      <td>10193</td>\n",
       "    </tr>\n",
       "    <tr>\n",
       "      <th>11</th>\n",
       "      <td>Management occupations</td>\n",
       "      <td>Fall</td>\n",
       "      <td>35</td>\n",
       "      <td>10193</td>\n",
       "    </tr>\n",
       "  </tbody>\n",
       "</table>\n",
       "</div>"
      ],
      "text/plain": [
       "                occupation     mechanism_of_death  deaths  population\n",
       "7   Management occupations                  Total     387       10193\n",
       "8   Management occupations             Cut/Pierce      82       10193\n",
       "9   Management occupations  Motor Vehicle Traffic     159       10193\n",
       "10  Management occupations             Fire/Flame      14       10193\n",
       "11  Management occupations                   Fall      35       10193"
      ]
     },
     "execution_count": 9,
     "metadata": {},
     "output_type": "execute_result"
    }
   ],
   "source": [
    "# current output\n",
    "job_deaths.head()"
   ]
  },
  {
   "cell_type": "markdown",
   "metadata": {},
   "source": [
    "### Creating the Indexed Likelihood of Death by Occupation"
   ]
  },
  {
   "cell_type": "markdown",
   "metadata": {},
   "source": [
    "At this point, we'll want to split the data into two tables where the first will be used to augment the probability of death and the second will be used to augment the mechanism of death if death occurs.\n",
    "1. `job_indexed_liklihood`: A table which has the total deaths and population for each occupation\n",
    "2. `job_mechanism_indexed_likelihood`: A table which has the non-total deaths and population for each mechanism\n",
    "\n",
    "`job_indexed_liklihood` will be used to create the indexed likelihood of dying by occupation and `job_mechanism_indexed_likelihood` will be used to modulate the probability of dying by a specific mechanism once the dice roll for death occurs. This section covers creating `job_indexed_liklihood`."
   ]
  },
  {
   "cell_type": "code",
   "execution_count": 10,
   "metadata": {},
   "outputs": [],
   "source": [
    "job_indexed_likelihood = job_deaths[job_deaths.mechanism_of_death == 'Total']"
   ]
  },
  {
   "cell_type": "code",
   "execution_count": 11,
   "metadata": {
    "scrolled": true
   },
   "outputs": [
    {
     "data": {
      "text/html": [
       "<div>\n",
       "<style scoped>\n",
       "    .dataframe tbody tr th:only-of-type {\n",
       "        vertical-align: middle;\n",
       "    }\n",
       "\n",
       "    .dataframe tbody tr th {\n",
       "        vertical-align: top;\n",
       "    }\n",
       "\n",
       "    .dataframe thead th {\n",
       "        text-align: right;\n",
       "    }\n",
       "</style>\n",
       "<table border=\"1\" class=\"dataframe\">\n",
       "  <thead>\n",
       "    <tr style=\"text-align: right;\">\n",
       "      <th></th>\n",
       "      <th>occupation</th>\n",
       "      <th>mechanism_of_death</th>\n",
       "      <th>deaths</th>\n",
       "      <th>population</th>\n",
       "    </tr>\n",
       "  </thead>\n",
       "  <tbody>\n",
       "    <tr>\n",
       "      <th>7</th>\n",
       "      <td>Management occupations</td>\n",
       "      <td>Total</td>\n",
       "      <td>387</td>\n",
       "      <td>10193</td>\n",
       "    </tr>\n",
       "    <tr>\n",
       "      <th>280</th>\n",
       "      <td>Business and financial operations occupations</td>\n",
       "      <td>Total</td>\n",
       "      <td>38</td>\n",
       "      <td>8590</td>\n",
       "    </tr>\n",
       "    <tr>\n",
       "      <th>427</th>\n",
       "      <td>Computer and mathematical occupations</td>\n",
       "      <td>Total</td>\n",
       "      <td>12</td>\n",
       "      <td>4674</td>\n",
       "    </tr>\n",
       "    <tr>\n",
       "      <th>476</th>\n",
       "      <td>Architecture and engineering occupations</td>\n",
       "      <td>Total</td>\n",
       "      <td>30</td>\n",
       "      <td>2699</td>\n",
       "    </tr>\n",
       "    <tr>\n",
       "      <th>595</th>\n",
       "      <td>Life, physical, and social science occupations</td>\n",
       "      <td>Total</td>\n",
       "      <td>18</td>\n",
       "      <td>1323</td>\n",
       "    </tr>\n",
       "    <tr>\n",
       "      <th>763</th>\n",
       "      <td>Legal occupations</td>\n",
       "      <td>Total</td>\n",
       "      <td>15</td>\n",
       "      <td>1346</td>\n",
       "    </tr>\n",
       "    <tr>\n",
       "      <th>812</th>\n",
       "      <td>Education, training, and library occupations</td>\n",
       "      <td>Total</td>\n",
       "      <td>27</td>\n",
       "      <td>9647</td>\n",
       "    </tr>\n",
       "    <tr>\n",
       "      <th>924</th>\n",
       "      <td>Arts, design, entertainment, sports, and media...</td>\n",
       "      <td>Total</td>\n",
       "      <td>71</td>\n",
       "      <td>2900</td>\n",
       "    </tr>\n",
       "    <tr>\n",
       "      <th>1127</th>\n",
       "      <td>Healthcare practitioners and technical occupat...</td>\n",
       "      <td>Total</td>\n",
       "      <td>65</td>\n",
       "      <td>9108</td>\n",
       "    </tr>\n",
       "    <tr>\n",
       "      <th>1274</th>\n",
       "      <td>Healthcare support occupations</td>\n",
       "      <td>Total</td>\n",
       "      <td>32</td>\n",
       "      <td>4316</td>\n",
       "    </tr>\n",
       "    <tr>\n",
       "      <th>1358</th>\n",
       "      <td>Protective service occupations</td>\n",
       "      <td>Total</td>\n",
       "      <td>270</td>\n",
       "      <td>3561</td>\n",
       "    </tr>\n",
       "    <tr>\n",
       "      <th>1519</th>\n",
       "      <td>Food preparation and serving related occupations</td>\n",
       "      <td>Total</td>\n",
       "      <td>100</td>\n",
       "      <td>13664</td>\n",
       "    </tr>\n",
       "    <tr>\n",
       "      <th>1694</th>\n",
       "      <td>Building and grounds cleaning and maintenance ...</td>\n",
       "      <td>Total</td>\n",
       "      <td>350</td>\n",
       "      <td>5757</td>\n",
       "    </tr>\n",
       "    <tr>\n",
       "      <th>1799</th>\n",
       "      <td>Personal care and service occupations</td>\n",
       "      <td>Total</td>\n",
       "      <td>63</td>\n",
       "      <td>7117</td>\n",
       "    </tr>\n",
       "    <tr>\n",
       "      <th>1981</th>\n",
       "      <td>Sales and related occupations</td>\n",
       "      <td>Total</td>\n",
       "      <td>241</td>\n",
       "      <td>15729</td>\n",
       "    </tr>\n",
       "    <tr>\n",
       "      <th>2163</th>\n",
       "      <td>Office and administrative support occupations</td>\n",
       "      <td>Total</td>\n",
       "      <td>69</td>\n",
       "      <td>22974</td>\n",
       "    </tr>\n",
       "    <tr>\n",
       "      <th>2380</th>\n",
       "      <td>Farming, fishing, and forestry occupations</td>\n",
       "      <td>Total</td>\n",
       "      <td>262</td>\n",
       "      <td>1097</td>\n",
       "    </tr>\n",
       "    <tr>\n",
       "      <th>2492</th>\n",
       "      <td>Construction and extraction occupations</td>\n",
       "      <td>Total</td>\n",
       "      <td>1003</td>\n",
       "      <td>7213</td>\n",
       "    </tr>\n",
       "    <tr>\n",
       "      <th>3045</th>\n",
       "      <td>Installation, maintenance, and repair occupations</td>\n",
       "      <td>Total</td>\n",
       "      <td>420</td>\n",
       "      <td>6108</td>\n",
       "    </tr>\n",
       "    <tr>\n",
       "      <th>3339</th>\n",
       "      <td>Production occupations</td>\n",
       "      <td>Total</td>\n",
       "      <td>225</td>\n",
       "      <td>9452</td>\n",
       "    </tr>\n",
       "    <tr>\n",
       "      <th>3773</th>\n",
       "      <td>Transportation and material moving occupations</td>\n",
       "      <td>Total</td>\n",
       "      <td>1443</td>\n",
       "      <td>10841</td>\n",
       "    </tr>\n",
       "  </tbody>\n",
       "</table>\n",
       "</div>"
      ],
      "text/plain": [
       "                                             occupation mechanism_of_death  \\\n",
       "7                                Management occupations              Total   \n",
       "280       Business and financial operations occupations              Total   \n",
       "427               Computer and mathematical occupations              Total   \n",
       "476            Architecture and engineering occupations              Total   \n",
       "595      Life, physical, and social science occupations              Total   \n",
       "763                                   Legal occupations              Total   \n",
       "812        Education, training, and library occupations              Total   \n",
       "924   Arts, design, entertainment, sports, and media...              Total   \n",
       "1127  Healthcare practitioners and technical occupat...              Total   \n",
       "1274                     Healthcare support occupations              Total   \n",
       "1358                     Protective service occupations              Total   \n",
       "1519   Food preparation and serving related occupations              Total   \n",
       "1694  Building and grounds cleaning and maintenance ...              Total   \n",
       "1799              Personal care and service occupations              Total   \n",
       "1981                      Sales and related occupations              Total   \n",
       "2163      Office and administrative support occupations              Total   \n",
       "2380         Farming, fishing, and forestry occupations              Total   \n",
       "2492            Construction and extraction occupations              Total   \n",
       "3045  Installation, maintenance, and repair occupations              Total   \n",
       "3339                             Production occupations              Total   \n",
       "3773     Transportation and material moving occupations              Total   \n",
       "\n",
       "      deaths  population  \n",
       "7        387       10193  \n",
       "280       38        8590  \n",
       "427       12        4674  \n",
       "476       30        2699  \n",
       "595       18        1323  \n",
       "763       15        1346  \n",
       "812       27        9647  \n",
       "924       71        2900  \n",
       "1127      65        9108  \n",
       "1274      32        4316  \n",
       "1358     270        3561  \n",
       "1519     100       13664  \n",
       "1694     350        5757  \n",
       "1799      63        7117  \n",
       "1981     241       15729  \n",
       "2163      69       22974  \n",
       "2380     262        1097  \n",
       "2492    1003        7213  \n",
       "3045     420        6108  \n",
       "3339     225        9452  \n",
       "3773    1443       10841  "
      ]
     },
     "execution_count": 11,
     "metadata": {},
     "output_type": "execute_result"
    }
   ],
   "source": [
    "job_indexed_likelihood"
   ]
  },
  {
   "cell_type": "markdown",
   "metadata": {},
   "source": [
    "We'll want to express deaths and population as a ratio before generating indexed values."
   ]
  },
  {
   "cell_type": "code",
   "execution_count": 12,
   "metadata": {
    "scrolled": true
   },
   "outputs": [
    {
     "name": "stderr",
     "output_type": "stream",
     "text": [
      "/Users/willwright/anaconda3/lib/python3.7/site-packages/ipykernel_launcher.py:1: SettingWithCopyWarning: \n",
      "A value is trying to be set on a copy of a slice from a DataFrame.\n",
      "Try using .loc[row_indexer,col_indexer] = value instead\n",
      "\n",
      "See the caveats in the documentation: http://pandas.pydata.org/pandas-docs/stable/indexing.html#indexing-view-versus-copy\n",
      "  \"\"\"Entry point for launching an IPython kernel.\n"
     ]
    }
   ],
   "source": [
    "job_indexed_likelihood['deaths_per_capita'] = job_indexed_likelihood.deaths / job_indexed_likelihood.population"
   ]
  },
  {
   "cell_type": "code",
   "execution_count": 13,
   "metadata": {
    "scrolled": true
   },
   "outputs": [
    {
     "data": {
      "text/html": [
       "<div>\n",
       "<style scoped>\n",
       "    .dataframe tbody tr th:only-of-type {\n",
       "        vertical-align: middle;\n",
       "    }\n",
       "\n",
       "    .dataframe tbody tr th {\n",
       "        vertical-align: top;\n",
       "    }\n",
       "\n",
       "    .dataframe thead th {\n",
       "        text-align: right;\n",
       "    }\n",
       "</style>\n",
       "<table border=\"1\" class=\"dataframe\">\n",
       "  <thead>\n",
       "    <tr style=\"text-align: right;\">\n",
       "      <th></th>\n",
       "      <th>occupation</th>\n",
       "      <th>mechanism_of_death</th>\n",
       "      <th>deaths</th>\n",
       "      <th>population</th>\n",
       "      <th>deaths_per_capita</th>\n",
       "    </tr>\n",
       "  </thead>\n",
       "  <tbody>\n",
       "    <tr>\n",
       "      <th>7</th>\n",
       "      <td>Management occupations</td>\n",
       "      <td>Total</td>\n",
       "      <td>387</td>\n",
       "      <td>10193</td>\n",
       "      <td>0.037967</td>\n",
       "    </tr>\n",
       "    <tr>\n",
       "      <th>280</th>\n",
       "      <td>Business and financial operations occupations</td>\n",
       "      <td>Total</td>\n",
       "      <td>38</td>\n",
       "      <td>8590</td>\n",
       "      <td>0.004424</td>\n",
       "    </tr>\n",
       "    <tr>\n",
       "      <th>427</th>\n",
       "      <td>Computer and mathematical occupations</td>\n",
       "      <td>Total</td>\n",
       "      <td>12</td>\n",
       "      <td>4674</td>\n",
       "      <td>0.002567</td>\n",
       "    </tr>\n",
       "    <tr>\n",
       "      <th>476</th>\n",
       "      <td>Architecture and engineering occupations</td>\n",
       "      <td>Total</td>\n",
       "      <td>30</td>\n",
       "      <td>2699</td>\n",
       "      <td>0.011115</td>\n",
       "    </tr>\n",
       "    <tr>\n",
       "      <th>595</th>\n",
       "      <td>Life, physical, and social science occupations</td>\n",
       "      <td>Total</td>\n",
       "      <td>18</td>\n",
       "      <td>1323</td>\n",
       "      <td>0.013605</td>\n",
       "    </tr>\n",
       "    <tr>\n",
       "      <th>763</th>\n",
       "      <td>Legal occupations</td>\n",
       "      <td>Total</td>\n",
       "      <td>15</td>\n",
       "      <td>1346</td>\n",
       "      <td>0.011144</td>\n",
       "    </tr>\n",
       "    <tr>\n",
       "      <th>812</th>\n",
       "      <td>Education, training, and library occupations</td>\n",
       "      <td>Total</td>\n",
       "      <td>27</td>\n",
       "      <td>9647</td>\n",
       "      <td>0.002799</td>\n",
       "    </tr>\n",
       "    <tr>\n",
       "      <th>924</th>\n",
       "      <td>Arts, design, entertainment, sports, and media...</td>\n",
       "      <td>Total</td>\n",
       "      <td>71</td>\n",
       "      <td>2900</td>\n",
       "      <td>0.024483</td>\n",
       "    </tr>\n",
       "    <tr>\n",
       "      <th>1127</th>\n",
       "      <td>Healthcare practitioners and technical occupat...</td>\n",
       "      <td>Total</td>\n",
       "      <td>65</td>\n",
       "      <td>9108</td>\n",
       "      <td>0.007137</td>\n",
       "    </tr>\n",
       "    <tr>\n",
       "      <th>1274</th>\n",
       "      <td>Healthcare support occupations</td>\n",
       "      <td>Total</td>\n",
       "      <td>32</td>\n",
       "      <td>4316</td>\n",
       "      <td>0.007414</td>\n",
       "    </tr>\n",
       "    <tr>\n",
       "      <th>1358</th>\n",
       "      <td>Protective service occupations</td>\n",
       "      <td>Total</td>\n",
       "      <td>270</td>\n",
       "      <td>3561</td>\n",
       "      <td>0.075821</td>\n",
       "    </tr>\n",
       "    <tr>\n",
       "      <th>1519</th>\n",
       "      <td>Food preparation and serving related occupations</td>\n",
       "      <td>Total</td>\n",
       "      <td>100</td>\n",
       "      <td>13664</td>\n",
       "      <td>0.007319</td>\n",
       "    </tr>\n",
       "    <tr>\n",
       "      <th>1694</th>\n",
       "      <td>Building and grounds cleaning and maintenance ...</td>\n",
       "      <td>Total</td>\n",
       "      <td>350</td>\n",
       "      <td>5757</td>\n",
       "      <td>0.060796</td>\n",
       "    </tr>\n",
       "    <tr>\n",
       "      <th>1799</th>\n",
       "      <td>Personal care and service occupations</td>\n",
       "      <td>Total</td>\n",
       "      <td>63</td>\n",
       "      <td>7117</td>\n",
       "      <td>0.008852</td>\n",
       "    </tr>\n",
       "    <tr>\n",
       "      <th>1981</th>\n",
       "      <td>Sales and related occupations</td>\n",
       "      <td>Total</td>\n",
       "      <td>241</td>\n",
       "      <td>15729</td>\n",
       "      <td>0.015322</td>\n",
       "    </tr>\n",
       "    <tr>\n",
       "      <th>2163</th>\n",
       "      <td>Office and administrative support occupations</td>\n",
       "      <td>Total</td>\n",
       "      <td>69</td>\n",
       "      <td>22974</td>\n",
       "      <td>0.003003</td>\n",
       "    </tr>\n",
       "    <tr>\n",
       "      <th>2380</th>\n",
       "      <td>Farming, fishing, and forestry occupations</td>\n",
       "      <td>Total</td>\n",
       "      <td>262</td>\n",
       "      <td>1097</td>\n",
       "      <td>0.238833</td>\n",
       "    </tr>\n",
       "    <tr>\n",
       "      <th>2492</th>\n",
       "      <td>Construction and extraction occupations</td>\n",
       "      <td>Total</td>\n",
       "      <td>1003</td>\n",
       "      <td>7213</td>\n",
       "      <td>0.139054</td>\n",
       "    </tr>\n",
       "    <tr>\n",
       "      <th>3045</th>\n",
       "      <td>Installation, maintenance, and repair occupations</td>\n",
       "      <td>Total</td>\n",
       "      <td>420</td>\n",
       "      <td>6108</td>\n",
       "      <td>0.068762</td>\n",
       "    </tr>\n",
       "    <tr>\n",
       "      <th>3339</th>\n",
       "      <td>Production occupations</td>\n",
       "      <td>Total</td>\n",
       "      <td>225</td>\n",
       "      <td>9452</td>\n",
       "      <td>0.023804</td>\n",
       "    </tr>\n",
       "    <tr>\n",
       "      <th>3773</th>\n",
       "      <td>Transportation and material moving occupations</td>\n",
       "      <td>Total</td>\n",
       "      <td>1443</td>\n",
       "      <td>10841</td>\n",
       "      <td>0.133106</td>\n",
       "    </tr>\n",
       "  </tbody>\n",
       "</table>\n",
       "</div>"
      ],
      "text/plain": [
       "                                             occupation mechanism_of_death  \\\n",
       "7                                Management occupations              Total   \n",
       "280       Business and financial operations occupations              Total   \n",
       "427               Computer and mathematical occupations              Total   \n",
       "476            Architecture and engineering occupations              Total   \n",
       "595      Life, physical, and social science occupations              Total   \n",
       "763                                   Legal occupations              Total   \n",
       "812        Education, training, and library occupations              Total   \n",
       "924   Arts, design, entertainment, sports, and media...              Total   \n",
       "1127  Healthcare practitioners and technical occupat...              Total   \n",
       "1274                     Healthcare support occupations              Total   \n",
       "1358                     Protective service occupations              Total   \n",
       "1519   Food preparation and serving related occupations              Total   \n",
       "1694  Building and grounds cleaning and maintenance ...              Total   \n",
       "1799              Personal care and service occupations              Total   \n",
       "1981                      Sales and related occupations              Total   \n",
       "2163      Office and administrative support occupations              Total   \n",
       "2380         Farming, fishing, and forestry occupations              Total   \n",
       "2492            Construction and extraction occupations              Total   \n",
       "3045  Installation, maintenance, and repair occupations              Total   \n",
       "3339                             Production occupations              Total   \n",
       "3773     Transportation and material moving occupations              Total   \n",
       "\n",
       "      deaths  population  deaths_per_capita  \n",
       "7        387       10193           0.037967  \n",
       "280       38        8590           0.004424  \n",
       "427       12        4674           0.002567  \n",
       "476       30        2699           0.011115  \n",
       "595       18        1323           0.013605  \n",
       "763       15        1346           0.011144  \n",
       "812       27        9647           0.002799  \n",
       "924       71        2900           0.024483  \n",
       "1127      65        9108           0.007137  \n",
       "1274      32        4316           0.007414  \n",
       "1358     270        3561           0.075821  \n",
       "1519     100       13664           0.007319  \n",
       "1694     350        5757           0.060796  \n",
       "1799      63        7117           0.008852  \n",
       "1981     241       15729           0.015322  \n",
       "2163      69       22974           0.003003  \n",
       "2380     262        1097           0.238833  \n",
       "2492    1003        7213           0.139054  \n",
       "3045     420        6108           0.068762  \n",
       "3339     225        9452           0.023804  \n",
       "3773    1443       10841           0.133106  "
      ]
     },
     "execution_count": 13,
     "metadata": {},
     "output_type": "execute_result"
    }
   ],
   "source": [
    "job_indexed_likelihood"
   ]
  },
  {
   "cell_type": "code",
   "execution_count": 14,
   "metadata": {},
   "outputs": [
    {
     "data": {
      "text/plain": [
       "0.04272993952516797"
      ]
     },
     "execution_count": 14,
     "metadata": {},
     "output_type": "execute_result"
    }
   ],
   "source": [
    "np.mean(job_indexed_likelihood.deaths_per_capita)"
   ]
  },
  {
   "cell_type": "markdown",
   "metadata": {},
   "source": [
    "If we want this mean value to have an index of 1, then we simply divide by the mean."
   ]
  },
  {
   "cell_type": "code",
   "execution_count": 15,
   "metadata": {},
   "outputs": [
    {
     "name": "stderr",
     "output_type": "stream",
     "text": [
      "/Users/willwright/anaconda3/lib/python3.7/site-packages/ipykernel_launcher.py:2: SettingWithCopyWarning: \n",
      "A value is trying to be set on a copy of a slice from a DataFrame.\n",
      "Try using .loc[row_indexer,col_indexer] = value instead\n",
      "\n",
      "See the caveats in the documentation: http://pandas.pydata.org/pandas-docs/stable/indexing.html#indexing-view-versus-copy\n",
      "  \n"
     ]
    }
   ],
   "source": [
    "job_indexed_likelihood['indexed_likelihood'] = job_indexed_likelihood.deaths_per_capita /\\\n",
    "    np.mean(job_indexed_likelihood.deaths_per_capita)"
   ]
  },
  {
   "cell_type": "code",
   "execution_count": 16,
   "metadata": {},
   "outputs": [],
   "source": [
    "job_indexed_likelihood = job_indexed_likelihood.sort_values(\"indexed_likelihood\", ascending = False)"
   ]
  },
  {
   "cell_type": "markdown",
   "metadata": {},
   "source": [
    "Finally, we can remove all the columns except occupation and indexed_likelihood and re-index."
   ]
  },
  {
   "cell_type": "code",
   "execution_count": 17,
   "metadata": {},
   "outputs": [],
   "source": [
    "job_indexed_likelihood = job_indexed_likelihood.drop(['mechanism_of_death', 'deaths', 'population', \n",
    "                            'deaths_per_capita'], axis = 1).reset_index(drop = True)"
   ]
  },
  {
   "cell_type": "code",
   "execution_count": 18,
   "metadata": {
    "scrolled": true
   },
   "outputs": [
    {
     "data": {
      "text/html": [
       "<div>\n",
       "<style scoped>\n",
       "    .dataframe tbody tr th:only-of-type {\n",
       "        vertical-align: middle;\n",
       "    }\n",
       "\n",
       "    .dataframe tbody tr th {\n",
       "        vertical-align: top;\n",
       "    }\n",
       "\n",
       "    .dataframe thead th {\n",
       "        text-align: right;\n",
       "    }\n",
       "</style>\n",
       "<table border=\"1\" class=\"dataframe\">\n",
       "  <thead>\n",
       "    <tr style=\"text-align: right;\">\n",
       "      <th></th>\n",
       "      <th>occupation</th>\n",
       "      <th>indexed_likelihood</th>\n",
       "    </tr>\n",
       "  </thead>\n",
       "  <tbody>\n",
       "    <tr>\n",
       "      <th>0</th>\n",
       "      <td>Farming, fishing, and forestry occupations</td>\n",
       "      <td>5.589364</td>\n",
       "    </tr>\n",
       "    <tr>\n",
       "      <th>1</th>\n",
       "      <td>Construction and extraction occupations</td>\n",
       "      <td>3.254264</td>\n",
       "    </tr>\n",
       "    <tr>\n",
       "      <th>2</th>\n",
       "      <td>Transportation and material moving occupations</td>\n",
       "      <td>3.115048</td>\n",
       "    </tr>\n",
       "    <tr>\n",
       "      <th>3</th>\n",
       "      <td>Protective service occupations</td>\n",
       "      <td>1.774433</td>\n",
       "    </tr>\n",
       "    <tr>\n",
       "      <th>4</th>\n",
       "      <td>Installation, maintenance, and repair occupations</td>\n",
       "      <td>1.609229</td>\n",
       "    </tr>\n",
       "    <tr>\n",
       "      <th>5</th>\n",
       "      <td>Building and grounds cleaning and maintenance ...</td>\n",
       "      <td>1.422786</td>\n",
       "    </tr>\n",
       "    <tr>\n",
       "      <th>6</th>\n",
       "      <td>Management occupations</td>\n",
       "      <td>0.888539</td>\n",
       "    </tr>\n",
       "    <tr>\n",
       "      <th>7</th>\n",
       "      <td>Arts, design, entertainment, sports, and media...</td>\n",
       "      <td>0.572965</td>\n",
       "    </tr>\n",
       "    <tr>\n",
       "      <th>8</th>\n",
       "      <td>Production occupations</td>\n",
       "      <td>0.557091</td>\n",
       "    </tr>\n",
       "    <tr>\n",
       "      <th>9</th>\n",
       "      <td>Sales and related occupations</td>\n",
       "      <td>0.358578</td>\n",
       "    </tr>\n",
       "    <tr>\n",
       "      <th>10</th>\n",
       "      <td>Life, physical, and social science occupations</td>\n",
       "      <td>0.318405</td>\n",
       "    </tr>\n",
       "    <tr>\n",
       "      <th>11</th>\n",
       "      <td>Legal occupations</td>\n",
       "      <td>0.260804</td>\n",
       "    </tr>\n",
       "    <tr>\n",
       "      <th>12</th>\n",
       "      <td>Architecture and engineering occupations</td>\n",
       "      <td>0.260127</td>\n",
       "    </tr>\n",
       "    <tr>\n",
       "      <th>13</th>\n",
       "      <td>Personal care and service occupations</td>\n",
       "      <td>0.207163</td>\n",
       "    </tr>\n",
       "    <tr>\n",
       "      <th>14</th>\n",
       "      <td>Healthcare support occupations</td>\n",
       "      <td>0.173515</td>\n",
       "    </tr>\n",
       "    <tr>\n",
       "      <th>15</th>\n",
       "      <td>Food preparation and serving related occupations</td>\n",
       "      <td>0.171273</td>\n",
       "    </tr>\n",
       "    <tr>\n",
       "      <th>16</th>\n",
       "      <td>Healthcare practitioners and technical occupat...</td>\n",
       "      <td>0.167016</td>\n",
       "    </tr>\n",
       "    <tr>\n",
       "      <th>17</th>\n",
       "      <td>Business and financial operations occupations</td>\n",
       "      <td>0.103528</td>\n",
       "    </tr>\n",
       "    <tr>\n",
       "      <th>18</th>\n",
       "      <td>Office and administrative support occupations</td>\n",
       "      <td>0.070288</td>\n",
       "    </tr>\n",
       "    <tr>\n",
       "      <th>19</th>\n",
       "      <td>Education, training, and library occupations</td>\n",
       "      <td>0.065500</td>\n",
       "    </tr>\n",
       "    <tr>\n",
       "      <th>20</th>\n",
       "      <td>Computer and mathematical occupations</td>\n",
       "      <td>0.060084</td>\n",
       "    </tr>\n",
       "  </tbody>\n",
       "</table>\n",
       "</div>"
      ],
      "text/plain": [
       "                                           occupation  indexed_likelihood\n",
       "0          Farming, fishing, and forestry occupations            5.589364\n",
       "1             Construction and extraction occupations            3.254264\n",
       "2      Transportation and material moving occupations            3.115048\n",
       "3                      Protective service occupations            1.774433\n",
       "4   Installation, maintenance, and repair occupations            1.609229\n",
       "5   Building and grounds cleaning and maintenance ...            1.422786\n",
       "6                              Management occupations            0.888539\n",
       "7   Arts, design, entertainment, sports, and media...            0.572965\n",
       "8                              Production occupations            0.557091\n",
       "9                       Sales and related occupations            0.358578\n",
       "10     Life, physical, and social science occupations            0.318405\n",
       "11                                  Legal occupations            0.260804\n",
       "12           Architecture and engineering occupations            0.260127\n",
       "13              Personal care and service occupations            0.207163\n",
       "14                     Healthcare support occupations            0.173515\n",
       "15   Food preparation and serving related occupations            0.171273\n",
       "16  Healthcare practitioners and technical occupat...            0.167016\n",
       "17      Business and financial operations occupations            0.103528\n",
       "18      Office and administrative support occupations            0.070288\n",
       "19       Education, training, and library occupations            0.065500\n",
       "20              Computer and mathematical occupations            0.060084"
      ]
     },
     "execution_count": 18,
     "metadata": {},
     "output_type": "execute_result"
    }
   ],
   "source": [
    "job_indexed_likelihood"
   ]
  },
  {
   "cell_type": "markdown",
   "metadata": {},
   "source": [
    "Perfect! The results align with intuitions (that farming, fishing, forestry, construction, and extraction sorts of jobs are more dangerous and computer, mathematical, and education are some of the least dangerous."
   ]
  },
  {
   "cell_type": "markdown",
   "metadata": {},
   "source": [
    "### Creating the Indexed Likelihood of Death by Mechanism within Occupation"
   ]
  },
  {
   "cell_type": "markdown",
   "metadata": {},
   "source": [
    "This step is a nice-to-have given how small a difference it'll make overall so we'll deprioritize this scope for the MVP unless time allows."
   ]
  },
  {
   "cell_type": "markdown",
   "metadata": {},
   "source": [
    "### Creating the CDC Annual Death Probabilities by Age, Gender, and Race"
   ]
  },
  {
   "cell_type": "markdown",
   "metadata": {},
   "source": [
    "As with the BLS data, we'll split the CDC data into two datasets where the first will be used to determine the overall probability of death and the second will be used to determine the mechanism and cause of death if death occurs.\n",
    "\n",
    "1. `annualDeathProbs_age_gender_race` is, as the name suggests, the probability of dying within a year based on age, race, and gender.\n",
    "2. `annualCauseofDeathProbs_age_gender_race` is the annual probability of each cause and related mechanism of death given that death occurs within a specific age, gender, and race.\n",
    "\n",
    "This section covers the creation of `annualDeathProbs_age_gender_race`"
   ]
  },
  {
   "cell_type": "code",
   "execution_count": 19,
   "metadata": {},
   "outputs": [
    {
     "data": {
      "text/html": [
       "<div>\n",
       "<style scoped>\n",
       "    .dataframe tbody tr th:only-of-type {\n",
       "        vertical-align: middle;\n",
       "    }\n",
       "\n",
       "    .dataframe tbody tr th {\n",
       "        vertical-align: top;\n",
       "    }\n",
       "\n",
       "    .dataframe thead th {\n",
       "        text-align: right;\n",
       "    }\n",
       "</style>\n",
       "<table border=\"1\" class=\"dataframe\">\n",
       "  <thead>\n",
       "    <tr style=\"text-align: right;\">\n",
       "      <th></th>\n",
       "      <th>age</th>\n",
       "      <th>gender</th>\n",
       "      <th>race</th>\n",
       "      <th>mechanism_of_death</th>\n",
       "      <th>cause_of_death</th>\n",
       "      <th>deaths</th>\n",
       "      <th>population</th>\n",
       "    </tr>\n",
       "  </thead>\n",
       "  <tbody>\n",
       "    <tr>\n",
       "      <th>0</th>\n",
       "      <td>0</td>\n",
       "      <td>Female</td>\n",
       "      <td>American Indian or Alaska Native</td>\n",
       "      <td>Fire/Flame</td>\n",
       "      <td>Exposure to uncontrolled fire in building or s...</td>\n",
       "      <td>1</td>\n",
       "      <td>36615</td>\n",
       "    </tr>\n",
       "    <tr>\n",
       "      <th>1</th>\n",
       "      <td>0</td>\n",
       "      <td>Female</td>\n",
       "      <td>American Indian or Alaska Native</td>\n",
       "      <td>Motor Vehicle Traffic</td>\n",
       "      <td>Car occupant injured in collision with heavy t...</td>\n",
       "      <td>1</td>\n",
       "      <td>36615</td>\n",
       "    </tr>\n",
       "    <tr>\n",
       "      <th>2</th>\n",
       "      <td>0</td>\n",
       "      <td>Female</td>\n",
       "      <td>American Indian or Alaska Native</td>\n",
       "      <td>Motor Vehicle Traffic</td>\n",
       "      <td>Person injured in unspecified motor-vehicle ac...</td>\n",
       "      <td>1</td>\n",
       "      <td>36615</td>\n",
       "    </tr>\n",
       "    <tr>\n",
       "      <th>3</th>\n",
       "      <td>0</td>\n",
       "      <td>Female</td>\n",
       "      <td>American Indian or Alaska Native</td>\n",
       "      <td>Suffocation</td>\n",
       "      <td>Accidental suffocation and strangulation in bed</td>\n",
       "      <td>7</td>\n",
       "      <td>36615</td>\n",
       "    </tr>\n",
       "    <tr>\n",
       "      <th>4</th>\n",
       "      <td>0</td>\n",
       "      <td>Female</td>\n",
       "      <td>American Indian or Alaska Native</td>\n",
       "      <td>Suffocation</td>\n",
       "      <td>Unspecified threat to breathing</td>\n",
       "      <td>3</td>\n",
       "      <td>36615</td>\n",
       "    </tr>\n",
       "  </tbody>\n",
       "</table>\n",
       "</div>"
      ],
      "text/plain": [
       "   age  gender                              race     mechanism_of_death  \\\n",
       "0    0  Female  American Indian or Alaska Native             Fire/Flame   \n",
       "1    0  Female  American Indian or Alaska Native  Motor Vehicle Traffic   \n",
       "2    0  Female  American Indian or Alaska Native  Motor Vehicle Traffic   \n",
       "3    0  Female  American Indian or Alaska Native            Suffocation   \n",
       "4    0  Female  American Indian or Alaska Native            Suffocation   \n",
       "\n",
       "                                      cause_of_death  deaths  population  \n",
       "0  Exposure to uncontrolled fire in building or s...       1       36615  \n",
       "1  Car occupant injured in collision with heavy t...       1       36615  \n",
       "2  Person injured in unspecified motor-vehicle ac...       1       36615  \n",
       "3    Accidental suffocation and strangulation in bed       7       36615  \n",
       "4                    Unspecified threat to breathing       3       36615  "
      ]
     },
     "execution_count": 19,
     "metadata": {},
     "output_type": "execute_result"
    }
   ],
   "source": [
    "# overview of data\n",
    "cdc_deaths.head()"
   ]
  },
  {
   "cell_type": "markdown",
   "metadata": {},
   "source": [
    "In order to convert to annual probabilities, we'll want to group deaths on age, gender, race, and population, then divide by the population in that grouping."
   ]
  },
  {
   "cell_type": "code",
   "execution_count": 20,
   "metadata": {},
   "outputs": [],
   "source": [
    "annualDeathProbs_age_gender_race =\\\n",
    "    cdc_deaths.groupby(['age', 'gender', 'race', 'population'], as_index = False).sum()"
   ]
  },
  {
   "cell_type": "code",
   "execution_count": 21,
   "metadata": {},
   "outputs": [],
   "source": [
    "annualDeathProbs_age_gender_race['annual_death_prob'] = annualDeathProbs_age_gender_race.deaths /\\\n",
    "                                                    annualDeathProbs_age_gender_race.population"
   ]
  },
  {
   "cell_type": "markdown",
   "metadata": {},
   "source": [
    "Finally, to tidy up, we can remove the population and deaths columns since they won't be needed by the death simulator now that we have probability."
   ]
  },
  {
   "cell_type": "code",
   "execution_count": 22,
   "metadata": {},
   "outputs": [],
   "source": [
    "annualDeathProbs_age_gender_race = annualDeathProbs_age_gender_race.drop(['population', 'deaths'], axis = 1)"
   ]
  },
  {
   "cell_type": "code",
   "execution_count": 23,
   "metadata": {},
   "outputs": [
    {
     "data": {
      "text/html": [
       "<div>\n",
       "<style scoped>\n",
       "    .dataframe tbody tr th:only-of-type {\n",
       "        vertical-align: middle;\n",
       "    }\n",
       "\n",
       "    .dataframe tbody tr th {\n",
       "        vertical-align: top;\n",
       "    }\n",
       "\n",
       "    .dataframe thead th {\n",
       "        text-align: right;\n",
       "    }\n",
       "</style>\n",
       "<table border=\"1\" class=\"dataframe\">\n",
       "  <thead>\n",
       "    <tr style=\"text-align: right;\">\n",
       "      <th></th>\n",
       "      <th>age</th>\n",
       "      <th>gender</th>\n",
       "      <th>race</th>\n",
       "      <th>annual_death_prob</th>\n",
       "    </tr>\n",
       "  </thead>\n",
       "  <tbody>\n",
       "    <tr>\n",
       "      <th>0</th>\n",
       "      <td>0</td>\n",
       "      <td>Female</td>\n",
       "      <td>American Indian or Alaska Native</td>\n",
       "      <td>0.003714</td>\n",
       "    </tr>\n",
       "    <tr>\n",
       "      <th>1</th>\n",
       "      <td>0</td>\n",
       "      <td>Female</td>\n",
       "      <td>Asian or Pacific Islander</td>\n",
       "      <td>0.003723</td>\n",
       "    </tr>\n",
       "    <tr>\n",
       "      <th>2</th>\n",
       "      <td>0</td>\n",
       "      <td>Female</td>\n",
       "      <td>Black or African American</td>\n",
       "      <td>0.009152</td>\n",
       "    </tr>\n",
       "    <tr>\n",
       "      <th>3</th>\n",
       "      <td>0</td>\n",
       "      <td>Female</td>\n",
       "      <td>White</td>\n",
       "      <td>0.004184</td>\n",
       "    </tr>\n",
       "    <tr>\n",
       "      <th>4</th>\n",
       "      <td>0</td>\n",
       "      <td>Male</td>\n",
       "      <td>American Indian or Alaska Native</td>\n",
       "      <td>0.004777</td>\n",
       "    </tr>\n",
       "  </tbody>\n",
       "</table>\n",
       "</div>"
      ],
      "text/plain": [
       "   age  gender                              race  annual_death_prob\n",
       "0    0  Female  American Indian or Alaska Native           0.003714\n",
       "1    0  Female         Asian or Pacific Islander           0.003723\n",
       "2    0  Female         Black or African American           0.009152\n",
       "3    0  Female                             White           0.004184\n",
       "4    0    Male  American Indian or Alaska Native           0.004777"
      ]
     },
     "execution_count": 23,
     "metadata": {},
     "output_type": "execute_result"
    }
   ],
   "source": [
    "# new data structure\n",
    "annualDeathProbs_age_gender_race.head()"
   ]
  },
  {
   "cell_type": "markdown",
   "metadata": {},
   "source": [
    "### Creating the CDC Annual Cause of Death Probabilities by Age, Gender, and Race"
   ]
  },
  {
   "cell_type": "code",
   "execution_count": 24,
   "metadata": {},
   "outputs": [],
   "source": [
    "annualCauseofDeathProbs_age_gender_race = cdc_deaths.copy()"
   ]
  },
  {
   "cell_type": "markdown",
   "metadata": {},
   "source": [
    "Here, population doesn't matter since that field is only used for calculating the probability of death (used in `annualDeathProbs_age_gender_race`).  Instead, we'll want to know: for those who died, what percent died by each cause.  This being the case, we can drop population and calculate the cause of death probability within the age/gender/race combination."
   ]
  },
  {
   "cell_type": "code",
   "execution_count": 25,
   "metadata": {},
   "outputs": [],
   "source": [
    "del annualCauseofDeathProbs_age_gender_race['population']"
   ]
  },
  {
   "cell_type": "code",
   "execution_count": 26,
   "metadata": {},
   "outputs": [],
   "source": [
    "annualCauseofDeathProbs_age_gender_race = \\\n",
    "    annualCauseofDeathProbs_age_gender_race.assign(cause_of_death_prob = \\\n",
    "        annualCauseofDeathProbs_age_gender_race.deaths /\\\n",
    "            annualCauseofDeathProbs_age_gender_race.groupby(['age', 'gender', 'race']).deaths.transform('sum'))"
   ]
  },
  {
   "cell_type": "markdown",
   "metadata": {},
   "source": [
    "The final step is removing the unneeded deaths column."
   ]
  },
  {
   "cell_type": "code",
   "execution_count": 27,
   "metadata": {},
   "outputs": [],
   "source": [
    "del annualCauseofDeathProbs_age_gender_race['deaths']"
   ]
  },
  {
   "cell_type": "code",
   "execution_count": 28,
   "metadata": {},
   "outputs": [
    {
     "data": {
      "text/html": [
       "<div>\n",
       "<style scoped>\n",
       "    .dataframe tbody tr th:only-of-type {\n",
       "        vertical-align: middle;\n",
       "    }\n",
       "\n",
       "    .dataframe tbody tr th {\n",
       "        vertical-align: top;\n",
       "    }\n",
       "\n",
       "    .dataframe thead th {\n",
       "        text-align: right;\n",
       "    }\n",
       "</style>\n",
       "<table border=\"1\" class=\"dataframe\">\n",
       "  <thead>\n",
       "    <tr style=\"text-align: right;\">\n",
       "      <th></th>\n",
       "      <th>age</th>\n",
       "      <th>gender</th>\n",
       "      <th>race</th>\n",
       "      <th>mechanism_of_death</th>\n",
       "      <th>cause_of_death</th>\n",
       "      <th>cause_of_death_prob</th>\n",
       "    </tr>\n",
       "  </thead>\n",
       "  <tbody>\n",
       "    <tr>\n",
       "      <th>0</th>\n",
       "      <td>0</td>\n",
       "      <td>Female</td>\n",
       "      <td>American Indian or Alaska Native</td>\n",
       "      <td>Fire/Flame</td>\n",
       "      <td>Exposure to uncontrolled fire in building or s...</td>\n",
       "      <td>0.007353</td>\n",
       "    </tr>\n",
       "    <tr>\n",
       "      <th>1</th>\n",
       "      <td>0</td>\n",
       "      <td>Female</td>\n",
       "      <td>American Indian or Alaska Native</td>\n",
       "      <td>Motor Vehicle Traffic</td>\n",
       "      <td>Car occupant injured in collision with heavy t...</td>\n",
       "      <td>0.007353</td>\n",
       "    </tr>\n",
       "    <tr>\n",
       "      <th>2</th>\n",
       "      <td>0</td>\n",
       "      <td>Female</td>\n",
       "      <td>American Indian or Alaska Native</td>\n",
       "      <td>Motor Vehicle Traffic</td>\n",
       "      <td>Person injured in unspecified motor-vehicle ac...</td>\n",
       "      <td>0.007353</td>\n",
       "    </tr>\n",
       "    <tr>\n",
       "      <th>3</th>\n",
       "      <td>0</td>\n",
       "      <td>Female</td>\n",
       "      <td>American Indian or Alaska Native</td>\n",
       "      <td>Suffocation</td>\n",
       "      <td>Accidental suffocation and strangulation in bed</td>\n",
       "      <td>0.051471</td>\n",
       "    </tr>\n",
       "    <tr>\n",
       "      <th>4</th>\n",
       "      <td>0</td>\n",
       "      <td>Female</td>\n",
       "      <td>American Indian or Alaska Native</td>\n",
       "      <td>Suffocation</td>\n",
       "      <td>Unspecified threat to breathing</td>\n",
       "      <td>0.022059</td>\n",
       "    </tr>\n",
       "  </tbody>\n",
       "</table>\n",
       "</div>"
      ],
      "text/plain": [
       "   age  gender                              race     mechanism_of_death  \\\n",
       "0    0  Female  American Indian or Alaska Native             Fire/Flame   \n",
       "1    0  Female  American Indian or Alaska Native  Motor Vehicle Traffic   \n",
       "2    0  Female  American Indian or Alaska Native  Motor Vehicle Traffic   \n",
       "3    0  Female  American Indian or Alaska Native            Suffocation   \n",
       "4    0  Female  American Indian or Alaska Native            Suffocation   \n",
       "\n",
       "                                      cause_of_death  cause_of_death_prob  \n",
       "0  Exposure to uncontrolled fire in building or s...             0.007353  \n",
       "1  Car occupant injured in collision with heavy t...             0.007353  \n",
       "2  Person injured in unspecified motor-vehicle ac...             0.007353  \n",
       "3    Accidental suffocation and strangulation in bed             0.051471  \n",
       "4                    Unspecified threat to breathing             0.022059  "
      ]
     },
     "execution_count": 28,
     "metadata": {},
     "output_type": "execute_result"
    }
   ],
   "source": [
    "# inspect data structure\n",
    "annualCauseofDeathProbs_age_gender_race.head()"
   ]
  },
  {
   "cell_type": "markdown",
   "metadata": {},
   "source": [
    "### Write Results to .csv"
   ]
  },
  {
   "cell_type": "code",
   "execution_count": 29,
   "metadata": {},
   "outputs": [],
   "source": [
    "job_indexed_likelihood.to_csv('../data/job_indexed_likelihood.csv', index = False)\n",
    "annualDeathProbs_age_gender_race.to_csv('../data/annualDeathProbs_age_gender_race.csv', index = False)\n",
    "annualCauseofDeathProbs_age_gender_race.to_csv('../data/annualCauseofDeathProbs_age_gender_race.csv', index = False)"
   ]
  },
  {
   "cell_type": "code",
   "execution_count": 30,
   "metadata": {},
   "outputs": [
    {
     "data": {
      "text/plain": [
       "3753"
      ]
     },
     "execution_count": 30,
     "metadata": {},
     "output_type": "execute_result"
    }
   ],
   "source": [
    "len(np.unique(annualCauseofDeathProbs_age_gender_race.cause_of_death))"
   ]
  },
  {
   "cell_type": "code",
   "execution_count": null,
   "metadata": {},
   "outputs": [],
   "source": []
  }
 ],
 "metadata": {
  "kernelspec": {
   "display_name": "Python 3",
   "language": "python",
   "name": "python3"
  },
  "language_info": {
   "codemirror_mode": {
    "name": "ipython",
    "version": 3
   },
   "file_extension": ".py",
   "mimetype": "text/x-python",
   "name": "python",
   "nbconvert_exporter": "python",
   "pygments_lexer": "ipython3",
   "version": "3.7.1"
  }
 },
 "nbformat": 4,
 "nbformat_minor": 2
}
