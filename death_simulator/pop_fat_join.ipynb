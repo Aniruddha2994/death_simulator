{
 "cells": [
  {
   "cell_type": "code",
   "execution_count": 1,
   "metadata": {},
   "outputs": [],
   "source": [
    "import pandas as pd\n",
    "pop = pd.read_csv('Documents/data_pop_occupation.csv')\n",
    "fat = pd.read_csv('Documents/occupational_fatalities_cleaned.csv')\n",
    "pop['Occupation'] = pop['Occupation'].str.strip()\n",
    "fat['Occupation'] = fat['Occupation'].str.strip()"
   ]
  },
  {
   "cell_type": "code",
   "execution_count": 2,
   "metadata": {},
   "outputs": [],
   "source": [
    "df = fat.merge(pop, how = 'inner', left_on='Occupation', right_on='Occupation')"
   ]
  },
  {
   "cell_type": "code",
   "execution_count": 3,
   "metadata": {},
   "outputs": [],
   "source": [
    "df.loc[df.loc[:,'variable'] == 'Total fatal injuries (number)',['variable']] = 'Total'"
   ]
  },
  {
   "cell_type": "code",
   "execution_count": 4,
   "metadata": {},
   "outputs": [],
   "source": [
    "df.loc[df.loc[:,'variable'] == 'Violence and other injuries by persons or animals',['variable']] = 'Cut/Pierce'\n",
    "df.loc[df.loc[:,'variable'] == 'Transportation incidents',['variable']] = 'Motor Vehicle Traffic'\n",
    "df.loc[df.loc[:,'variable'] == 'Fires and explosions',['variable']] = 'Fire/Flame'\n",
    "df.loc[df.loc[:,'variable'] == 'Falls, slips, trips',['variable']] = 'Fall'\n",
    "df.loc[df.loc[:,'variable'] == 'Exposure to harmful substances or environments',['variable']] = 'Poisoning'\n",
    "df.loc[df.loc[:,'variable'] == 'Contact with objects and equipment',['variable']] = 'Struck by or against'\n"
   ]
  },
  {
   "cell_type": "code",
   "execution_count": 5,
   "metadata": {},
   "outputs": [],
   "source": [
    "df = df.rename(columns={\"Occupation\":\"occupation\",\"Hierarchy Levels\":\"hierarchy_level\",\"variable\": \"mechanism_of_death\", \"value\": \"deaths\"})\n"
   ]
  },
  {
   "cell_type": "code",
   "execution_count": 6,
   "metadata": {},
   "outputs": [
    {
     "data": {
      "text/html": [
       "<div>\n",
       "<style scoped>\n",
       "    .dataframe tbody tr th:only-of-type {\n",
       "        vertical-align: middle;\n",
       "    }\n",
       "\n",
       "    .dataframe tbody tr th {\n",
       "        vertical-align: top;\n",
       "    }\n",
       "\n",
       "    .dataframe thead th {\n",
       "        text-align: right;\n",
       "    }\n",
       "</style>\n",
       "<table border=\"1\" class=\"dataframe\">\n",
       "  <thead>\n",
       "    <tr style=\"text-align: right;\">\n",
       "      <th></th>\n",
       "      <th>occupation</th>\n",
       "      <th>hierarchy_level</th>\n",
       "      <th>mechanism_of_death</th>\n",
       "      <th>deaths</th>\n",
       "      <th>population</th>\n",
       "    </tr>\n",
       "  </thead>\n",
       "  <tbody>\n",
       "    <tr>\n",
       "      <th>0</th>\n",
       "      <td>Total</td>\n",
       "      <td>0</td>\n",
       "      <td>Total</td>\n",
       "      <td>5250</td>\n",
       "      <td>161,038</td>\n",
       "    </tr>\n",
       "    <tr>\n",
       "      <th>1</th>\n",
       "      <td>Total</td>\n",
       "      <td>0</td>\n",
       "      <td>Cut/Pierce</td>\n",
       "      <td>828</td>\n",
       "      <td>161,038</td>\n",
       "    </tr>\n",
       "    <tr>\n",
       "      <th>2</th>\n",
       "      <td>Total</td>\n",
       "      <td>0</td>\n",
       "      <td>Motor Vehicle Traffic</td>\n",
       "      <td>2080</td>\n",
       "      <td>161,038</td>\n",
       "    </tr>\n",
       "    <tr>\n",
       "      <th>3</th>\n",
       "      <td>Total</td>\n",
       "      <td>0</td>\n",
       "      <td>Fire/Flame</td>\n",
       "      <td>115</td>\n",
       "      <td>161,038</td>\n",
       "    </tr>\n",
       "    <tr>\n",
       "      <th>4</th>\n",
       "      <td>Total</td>\n",
       "      <td>0</td>\n",
       "      <td>Fall</td>\n",
       "      <td>791</td>\n",
       "      <td>161,038</td>\n",
       "    </tr>\n",
       "    <tr>\n",
       "      <th>...</th>\n",
       "      <td>...</td>\n",
       "      <td>...</td>\n",
       "      <td>...</td>\n",
       "      <td>...</td>\n",
       "      <td>...</td>\n",
       "    </tr>\n",
       "    <tr>\n",
       "      <th>4153</th>\n",
       "      <td>Mine shuttle car operators</td>\n",
       "      <td>3</td>\n",
       "      <td>Fall</td>\n",
       "      <td>0</td>\n",
       "      <td>2</td>\n",
       "    </tr>\n",
       "    <tr>\n",
       "      <th>4154</th>\n",
       "      <td>Mine shuttle car operators</td>\n",
       "      <td>2</td>\n",
       "      <td>Poisoning</td>\n",
       "      <td>0</td>\n",
       "      <td>2</td>\n",
       "    </tr>\n",
       "    <tr>\n",
       "      <th>4155</th>\n",
       "      <td>Mine shuttle car operators</td>\n",
       "      <td>3</td>\n",
       "      <td>Poisoning</td>\n",
       "      <td>0</td>\n",
       "      <td>2</td>\n",
       "    </tr>\n",
       "    <tr>\n",
       "      <th>4156</th>\n",
       "      <td>Mine shuttle car operators</td>\n",
       "      <td>2</td>\n",
       "      <td>Struck by or against</td>\n",
       "      <td>0</td>\n",
       "      <td>2</td>\n",
       "    </tr>\n",
       "    <tr>\n",
       "      <th>4157</th>\n",
       "      <td>Mine shuttle car operators</td>\n",
       "      <td>3</td>\n",
       "      <td>Struck by or against</td>\n",
       "      <td>0</td>\n",
       "      <td>2</td>\n",
       "    </tr>\n",
       "  </tbody>\n",
       "</table>\n",
       "<p>4158 rows × 5 columns</p>\n",
       "</div>"
      ],
      "text/plain": [
       "                      occupation  hierarchy_level     mechanism_of_death  \\\n",
       "0                          Total                0                  Total   \n",
       "1                          Total                0             Cut/Pierce   \n",
       "2                          Total                0  Motor Vehicle Traffic   \n",
       "3                          Total                0             Fire/Flame   \n",
       "4                          Total                0                   Fall   \n",
       "...                          ...              ...                    ...   \n",
       "4153  Mine shuttle car operators                3                   Fall   \n",
       "4154  Mine shuttle car operators                2              Poisoning   \n",
       "4155  Mine shuttle car operators                3              Poisoning   \n",
       "4156  Mine shuttle car operators                2   Struck by or against   \n",
       "4157  Mine shuttle car operators                3   Struck by or against   \n",
       "\n",
       "      deaths population  \n",
       "0       5250    161,038  \n",
       "1        828    161,038  \n",
       "2       2080    161,038  \n",
       "3        115    161,038  \n",
       "4        791    161,038  \n",
       "...      ...        ...  \n",
       "4153       0          2  \n",
       "4154       0          2  \n",
       "4155       0          2  \n",
       "4156       0          2  \n",
       "4157       0          2  \n",
       "\n",
       "[4158 rows x 5 columns]"
      ]
     },
     "execution_count": 6,
     "metadata": {},
     "output_type": "execute_result"
    }
   ],
   "source": [
    "df"
   ]
  },
  {
   "cell_type": "code",
   "execution_count": 94,
   "metadata": {},
   "outputs": [],
   "source": [
    "df.to_csv('occupational_hazards_data.csv', index = False)"
   ]
  }
 ],
 "metadata": {
  "kernelspec": {
   "display_name": "Python 3",
   "language": "python",
   "name": "python3"
  },
  "language_info": {
   "codemirror_mode": {
    "name": "ipython",
    "version": 3
   },
   "file_extension": ".py",
   "mimetype": "text/x-python",
   "name": "python",
   "nbconvert_exporter": "python",
   "pygments_lexer": "ipython3",
   "version": "3.7.1"
  }
 },
 "nbformat": 4,
 "nbformat_minor": 4
}
