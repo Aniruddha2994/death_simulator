{
 "cells": [
  {
   "cell_type": "markdown",
   "metadata": {},
   "source": [
    "## Version 1 of the Death Simulator front end via Jupyter Notebooks + ipywidgets + Binder"
   ]
  },
  {
   "cell_type": "markdown",
   "metadata": {},
   "source": [
    "Reference: https://towardsdatascience.com/interactive-controls-for-jupyter-notebooks-f5c94829aee6"
   ]
  },
  {
   "cell_type": "code",
   "execution_count": 1,
   "metadata": {},
   "outputs": [],
   "source": [
    "#THESE NEED TO BE IN THE REQUIREMENTS.TXT\n",
    "\n",
    "import ipywidgets as widgets\n",
    "from ipywidgets import interact, interact_manual\n",
    "\n",
    "import pandas as pd\n",
    "import numpy as np\n",
    "import placehold\n",
    "import print_death_cert\n",
    "input_options_dict = placehold.fn_send_input_options()\n",
    "\n",
    "#import dict of input options from the backend python module"
   ]
  },
  {
   "cell_type": "code",
   "execution_count": 2,
   "metadata": {},
   "outputs": [],
   "source": [
    "#TODO\n",
    "#1. Function in backend that accepts the input list and returns the output list\n",
    "#2. Unit test around this function to do validation\n",
    "#3. "
   ]
  },
  {
   "cell_type": "code",
   "execution_count": 3,
   "metadata": {},
   "outputs": [
    {
     "data": {
      "application/vnd.jupyter.widget-view+json": {
       "model_id": "4ec49ea7638c4f16ac8d351bee70e498",
       "version_major": 2,
       "version_minor": 0
      },
      "text/plain": [
       "interactive(children=(Dropdown(description='Age', options=(0, 1, 2, 3, 4, 5, 6, 7, 8, 9, 10, 11, 12, 13, 14, 1…"
      ]
     },
     "metadata": {},
     "output_type": "display_data"
    }
   ],
   "source": [
    "@interact_manual\n",
    "def collect_inputs_manual_gen(Age=input_options_dict[\"age\"],\n",
    "                              Occupation=sorted(input_options_dict[\"occupation\"]),\n",
    "                              Gender=sorted(input_options_dict[\"new_gender\"]),\n",
    "                              Race=sorted(input_options_dict[\"race\"]),\n",
    "                              Exercise=sorted(input_options_dict[\"exercise\"]),\n",
    "                              BMI=sorted(input_options_dict[\"bmi\"]),\n",
    "                              Height=sorted(input_options_dict[\"height\"]),\n",
    "                              #be careful of how this is sorted\n",
    "                              Weight=sorted(input_options_dict[\"weight\"]),\n",
    "                              McDonalds=sorted(input_options_dict[\"mcdonalds\"])):\n",
    "    #return \"You will die of Atherosclerotic heart disease at the age of 88 years old on May 20th, 2080\"\n",
    "    return placehold.fn_send_output_string(input_options_dict)"
   ]
  },
  {
   "cell_type": "code",
   "execution_count": 79,
   "metadata": {},
   "outputs": [],
   "source": [
    "#Column 6 has mixed types! deaths? population? Ignoring warning for now\n",
    "df = pd.read_csv('../data/deaths_age_gender_race_mechanism_cause.csv')\n",
    "occ_df = pd.read_csv('../data/job_indexed_likelihood.csv')"
   ]
  },
  {
   "cell_type": "code",
   "execution_count": 83,
   "metadata": {},
   "outputs": [
    {
     "data": {
      "text/html": [
       "<div>\n",
       "<style scoped>\n",
       "    .dataframe tbody tr th:only-of-type {\n",
       "        vertical-align: middle;\n",
       "    }\n",
       "\n",
       "    .dataframe tbody tr th {\n",
       "        vertical-align: top;\n",
       "    }\n",
       "\n",
       "    .dataframe thead th {\n",
       "        text-align: right;\n",
       "    }\n",
       "</style>\n",
       "<table border=\"1\" class=\"dataframe\">\n",
       "  <thead>\n",
       "    <tr style=\"text-align: right;\">\n",
       "      <th></th>\n",
       "      <th>occupation</th>\n",
       "      <th>indexed_likelihood</th>\n",
       "    </tr>\n",
       "  </thead>\n",
       "  <tbody>\n",
       "    <tr>\n",
       "      <th>0</th>\n",
       "      <td>Farming, fishing, and forestry</td>\n",
       "      <td>5.589364</td>\n",
       "    </tr>\n",
       "    <tr>\n",
       "      <th>1</th>\n",
       "      <td>Construction and extraction</td>\n",
       "      <td>3.254264</td>\n",
       "    </tr>\n",
       "    <tr>\n",
       "      <th>2</th>\n",
       "      <td>Transportation and material moving</td>\n",
       "      <td>3.115048</td>\n",
       "    </tr>\n",
       "    <tr>\n",
       "      <th>3</th>\n",
       "      <td>Protective service</td>\n",
       "      <td>1.774433</td>\n",
       "    </tr>\n",
       "    <tr>\n",
       "      <th>4</th>\n",
       "      <td>Installation, maintenance, and repair</td>\n",
       "      <td>1.609229</td>\n",
       "    </tr>\n",
       "    <tr>\n",
       "      <th>5</th>\n",
       "      <td>Building and grounds cleaning and maintenance</td>\n",
       "      <td>1.422786</td>\n",
       "    </tr>\n",
       "    <tr>\n",
       "      <th>6</th>\n",
       "      <td>Management</td>\n",
       "      <td>0.888539</td>\n",
       "    </tr>\n",
       "    <tr>\n",
       "      <th>7</th>\n",
       "      <td>Arts, design, entertainment, sports, and media</td>\n",
       "      <td>0.572965</td>\n",
       "    </tr>\n",
       "    <tr>\n",
       "      <th>8</th>\n",
       "      <td>Production</td>\n",
       "      <td>0.557091</td>\n",
       "    </tr>\n",
       "    <tr>\n",
       "      <th>9</th>\n",
       "      <td>Sales and related</td>\n",
       "      <td>0.358578</td>\n",
       "    </tr>\n",
       "    <tr>\n",
       "      <th>10</th>\n",
       "      <td>Life, physical, and social science</td>\n",
       "      <td>0.318405</td>\n",
       "    </tr>\n",
       "    <tr>\n",
       "      <th>11</th>\n",
       "      <td>Legal</td>\n",
       "      <td>0.260804</td>\n",
       "    </tr>\n",
       "    <tr>\n",
       "      <th>12</th>\n",
       "      <td>Architecture and engineering</td>\n",
       "      <td>0.260127</td>\n",
       "    </tr>\n",
       "    <tr>\n",
       "      <th>13</th>\n",
       "      <td>Personal care and service</td>\n",
       "      <td>0.207163</td>\n",
       "    </tr>\n",
       "    <tr>\n",
       "      <th>14</th>\n",
       "      <td>Healthcare support</td>\n",
       "      <td>0.173515</td>\n",
       "    </tr>\n",
       "    <tr>\n",
       "      <th>15</th>\n",
       "      <td>Food preparation and serving related</td>\n",
       "      <td>0.171273</td>\n",
       "    </tr>\n",
       "    <tr>\n",
       "      <th>16</th>\n",
       "      <td>Healthcare practitioners and technical</td>\n",
       "      <td>0.167016</td>\n",
       "    </tr>\n",
       "    <tr>\n",
       "      <th>17</th>\n",
       "      <td>Business and financial operations</td>\n",
       "      <td>0.103528</td>\n",
       "    </tr>\n",
       "    <tr>\n",
       "      <th>18</th>\n",
       "      <td>Office and administrative support</td>\n",
       "      <td>0.070288</td>\n",
       "    </tr>\n",
       "    <tr>\n",
       "      <th>19</th>\n",
       "      <td>Education, training, and library</td>\n",
       "      <td>0.065500</td>\n",
       "    </tr>\n",
       "    <tr>\n",
       "      <th>20</th>\n",
       "      <td>Computer and mathematical</td>\n",
       "      <td>0.060084</td>\n",
       "    </tr>\n",
       "  </tbody>\n",
       "</table>\n",
       "</div>"
      ],
      "text/plain": [
       "                                        occupation  indexed_likelihood\n",
       "0                   Farming, fishing, and forestry            5.589364\n",
       "1                      Construction and extraction            3.254264\n",
       "2               Transportation and material moving            3.115048\n",
       "3                               Protective service            1.774433\n",
       "4            Installation, maintenance, and repair            1.609229\n",
       "5    Building and grounds cleaning and maintenance            1.422786\n",
       "6                                       Management            0.888539\n",
       "7   Arts, design, entertainment, sports, and media            0.572965\n",
       "8                                       Production            0.557091\n",
       "9                                Sales and related            0.358578\n",
       "10              Life, physical, and social science            0.318405\n",
       "11                                           Legal            0.260804\n",
       "12                    Architecture and engineering            0.260127\n",
       "13                       Personal care and service            0.207163\n",
       "14                              Healthcare support            0.173515\n",
       "15            Food preparation and serving related            0.171273\n",
       "16          Healthcare practitioners and technical            0.167016\n",
       "17               Business and financial operations            0.103528\n",
       "18               Office and administrative support            0.070288\n",
       "19                Education, training, and library            0.065500\n",
       "20                       Computer and mathematical            0.060084"
      ]
     },
     "execution_count": 83,
     "metadata": {},
     "output_type": "execute_result"
    }
   ],
   "source": [
    "occ_df"
   ]
  },
  {
   "cell_type": "code",
   "execution_count": null,
   "metadata": {},
   "outputs": [],
   "source": [
    "occ_df   str.replace(\"occupations\", \"\")"
   ]
  },
  {
   "cell_type": "code",
   "execution_count": 82,
   "metadata": {},
   "outputs": [],
   "source": [
    "occ_df[\"occupation\"] = occ_df.occupation.str.replace(\" occupations\", \"\")"
   ]
  },
  {
   "cell_type": "code",
   "execution_count": null,
   "metadata": {},
   "outputs": [],
   "source": [
    "occ_df = occ_df.sorted()"
   ]
  },
  {
   "cell_type": "markdown",
   "metadata": {},
   "source": [
    "### The idea is to walk the user through selecting the parameters that define themself or their hypothetical person.\n",
    "1. First we will ask for their exact date of birth (false precision, we will calc age off of that)\n",
    "2. Then gender\n",
    "    make sure to include unspecified\n",
    "3. Then we will ask them to select their occupation from the list of occupations\n",
    "4. Then race\n",
    "--- False inputs ---\n",
    "5. Regular exercise\n",
    "6. BMI\n",
    "7. Height + Weight\n",
    "8. Are you a McDonalds regular?\n",
    "9. Diabetic boolean\n",
    "\n",
    "\n",
    "\n"
   ]
  },
  {
   "cell_type": "code",
   "execution_count": 57,
   "metadata": {},
   "outputs": [],
   "source": [
    "special = {'exercise': ['Daily','5 times a week','4 times a week','couple times a week', 'rarely', 'never'],\n",
    "           'bmi': [18,19,20,21,22,23],\n",
    "           'height': ['3ft something', '4ft something', '5ft something', '6ft something', '7ft something', '8ft something'],\n",
    "           'weight': ['less than 150lbs', 'around 160lbs', 'around 170lbs', 'around 180lbs', 'around 190lbs', '200lbs or larger'],\n",
    "           'diabetic': ['Yes', 'No', 'Yes', 'No', 'Yes', 'No'],\n",
    "           'mcdonalds': ['Today', 'Yesterday', 'Recently', 'Last Month', 'Never', 'McDonalds?'],\n",
    "           'new_gender': ['Female', 'Male', 'Unspecified', 'Non-Binary', 'Male', 'Male']\n",
    "        }\n",
    "\n",
    "s_df = pd.DataFrame(special, columns = ['exercise', 'bmi', 'height', 'weight', 'diabetic', 'mcdonalds', 'new_gender'])\n"
   ]
  },
  {
   "cell_type": "code",
   "execution_count": 58,
   "metadata": {
    "scrolled": false
   },
   "outputs": [
    {
     "data": {
      "text/html": [
       "<div>\n",
       "<style scoped>\n",
       "    .dataframe tbody tr th:only-of-type {\n",
       "        vertical-align: middle;\n",
       "    }\n",
       "\n",
       "    .dataframe tbody tr th {\n",
       "        vertical-align: top;\n",
       "    }\n",
       "\n",
       "    .dataframe thead th {\n",
       "        text-align: right;\n",
       "    }\n",
       "</style>\n",
       "<table border=\"1\" class=\"dataframe\">\n",
       "  <thead>\n",
       "    <tr style=\"text-align: right;\">\n",
       "      <th></th>\n",
       "      <th>exercise</th>\n",
       "      <th>bmi</th>\n",
       "      <th>height</th>\n",
       "      <th>weight</th>\n",
       "      <th>diabetic</th>\n",
       "      <th>mcdonalds</th>\n",
       "      <th>new_gender</th>\n",
       "    </tr>\n",
       "  </thead>\n",
       "  <tbody>\n",
       "    <tr>\n",
       "      <th>0</th>\n",
       "      <td>Daily</td>\n",
       "      <td>18</td>\n",
       "      <td>3ft something</td>\n",
       "      <td>less than 150lbs</td>\n",
       "      <td>Yes</td>\n",
       "      <td>Today</td>\n",
       "      <td>Female</td>\n",
       "    </tr>\n",
       "    <tr>\n",
       "      <th>1</th>\n",
       "      <td>5 times a week</td>\n",
       "      <td>19</td>\n",
       "      <td>4ft something</td>\n",
       "      <td>around 160lbs</td>\n",
       "      <td>No</td>\n",
       "      <td>Yesterday</td>\n",
       "      <td>Male</td>\n",
       "    </tr>\n",
       "    <tr>\n",
       "      <th>2</th>\n",
       "      <td>4 times a week</td>\n",
       "      <td>20</td>\n",
       "      <td>5ft something</td>\n",
       "      <td>around 170lbs</td>\n",
       "      <td>Yes</td>\n",
       "      <td>Recently</td>\n",
       "      <td>Unspecified</td>\n",
       "    </tr>\n",
       "    <tr>\n",
       "      <th>3</th>\n",
       "      <td>couple times a week</td>\n",
       "      <td>21</td>\n",
       "      <td>6ft something</td>\n",
       "      <td>around 180lbs</td>\n",
       "      <td>No</td>\n",
       "      <td>Last Month</td>\n",
       "      <td>Non-Binary</td>\n",
       "    </tr>\n",
       "    <tr>\n",
       "      <th>4</th>\n",
       "      <td>rarely</td>\n",
       "      <td>22</td>\n",
       "      <td>7ft something</td>\n",
       "      <td>around 190lbs</td>\n",
       "      <td>Yes</td>\n",
       "      <td>Never</td>\n",
       "      <td>Male</td>\n",
       "    </tr>\n",
       "    <tr>\n",
       "      <th>5</th>\n",
       "      <td>never</td>\n",
       "      <td>23</td>\n",
       "      <td>8ft something</td>\n",
       "      <td>200lbs or larger</td>\n",
       "      <td>No</td>\n",
       "      <td>McDonalds?</td>\n",
       "      <td>Male</td>\n",
       "    </tr>\n",
       "  </tbody>\n",
       "</table>\n",
       "</div>"
      ],
      "text/plain": [
       "              exercise  bmi         height            weight diabetic  \\\n",
       "0                Daily   18  3ft something  less than 150lbs      Yes   \n",
       "1       5 times a week   19  4ft something     around 160lbs       No   \n",
       "2       4 times a week   20  5ft something     around 170lbs      Yes   \n",
       "3  couple times a week   21  6ft something     around 180lbs       No   \n",
       "4               rarely   22  7ft something     around 190lbs      Yes   \n",
       "5                never   23  8ft something  200lbs or larger       No   \n",
       "\n",
       "    mcdonalds   new_gender  \n",
       "0       Today       Female  \n",
       "1   Yesterday         Male  \n",
       "2    Recently  Unspecified  \n",
       "3  Last Month   Non-Binary  \n",
       "4       Never         Male  \n",
       "5  McDonalds?         Male  "
      ]
     },
     "execution_count": 58,
     "metadata": {},
     "output_type": "execute_result"
    }
   ],
   "source": [
    "s_df"
   ]
  },
  {
   "cell_type": "code",
   "execution_count": 75,
   "metadata": {
    "scrolled": false
   },
   "outputs": [
    {
     "data": {
      "text/html": [
       "<div>\n",
       "<style scoped>\n",
       "    .dataframe tbody tr th:only-of-type {\n",
       "        vertical-align: middle;\n",
       "    }\n",
       "\n",
       "    .dataframe tbody tr th {\n",
       "        vertical-align: top;\n",
       "    }\n",
       "\n",
       "    .dataframe thead th {\n",
       "        text-align: right;\n",
       "    }\n",
       "</style>\n",
       "<table border=\"1\" class=\"dataframe\">\n",
       "  <thead>\n",
       "    <tr style=\"text-align: right;\">\n",
       "      <th></th>\n",
       "      <th>exercise</th>\n",
       "      <th>bmi</th>\n",
       "      <th>height</th>\n",
       "      <th>weight</th>\n",
       "      <th>diabetic</th>\n",
       "      <th>mcdonalds</th>\n",
       "      <th>new_gender</th>\n",
       "    </tr>\n",
       "  </thead>\n",
       "  <tbody>\n",
       "    <tr>\n",
       "      <th>0</th>\n",
       "      <td>Daily</td>\n",
       "      <td>18</td>\n",
       "      <td>3ft something</td>\n",
       "      <td>less than 150lbs</td>\n",
       "      <td>Yes</td>\n",
       "      <td>Today</td>\n",
       "      <td>Female</td>\n",
       "    </tr>\n",
       "    <tr>\n",
       "      <th>1</th>\n",
       "      <td>5 times a week</td>\n",
       "      <td>19</td>\n",
       "      <td>4ft something</td>\n",
       "      <td>around 160lbs</td>\n",
       "      <td>No</td>\n",
       "      <td>Yesterday</td>\n",
       "      <td>Male</td>\n",
       "    </tr>\n",
       "    <tr>\n",
       "      <th>2</th>\n",
       "      <td>4 times a week</td>\n",
       "      <td>20</td>\n",
       "      <td>5ft something</td>\n",
       "      <td>around 170lbs</td>\n",
       "      <td>Yes</td>\n",
       "      <td>Recently</td>\n",
       "      <td>Unspecified</td>\n",
       "    </tr>\n",
       "    <tr>\n",
       "      <th>3</th>\n",
       "      <td>couple times a week</td>\n",
       "      <td>21</td>\n",
       "      <td>6ft something</td>\n",
       "      <td>around 180lbs</td>\n",
       "      <td>No</td>\n",
       "      <td>Last Month</td>\n",
       "      <td>Non-Binary</td>\n",
       "    </tr>\n",
       "    <tr>\n",
       "      <th>4</th>\n",
       "      <td>rarely</td>\n",
       "      <td>22</td>\n",
       "      <td>7ft something</td>\n",
       "      <td>around 190lbs</td>\n",
       "      <td>Yes</td>\n",
       "      <td>Never</td>\n",
       "      <td>Male</td>\n",
       "    </tr>\n",
       "    <tr>\n",
       "      <th>5</th>\n",
       "      <td>never</td>\n",
       "      <td>23</td>\n",
       "      <td>8ft something</td>\n",
       "      <td>200lbs or larger</td>\n",
       "      <td>No</td>\n",
       "      <td>McDonalds?</td>\n",
       "      <td>Male</td>\n",
       "    </tr>\n",
       "  </tbody>\n",
       "</table>\n",
       "</div>"
      ],
      "text/plain": [
       "              exercise  bmi         height            weight diabetic  \\\n",
       "0                Daily   18  3ft something  less than 150lbs      Yes   \n",
       "1       5 times a week   19  4ft something     around 160lbs       No   \n",
       "2       4 times a week   20  5ft something     around 170lbs      Yes   \n",
       "3  couple times a week   21  6ft something     around 180lbs       No   \n",
       "4               rarely   22  7ft something     around 190lbs      Yes   \n",
       "5                never   23  8ft something  200lbs or larger       No   \n",
       "\n",
       "    mcdonalds   new_gender  \n",
       "0       Today       Female  \n",
       "1   Yesterday         Male  \n",
       "2    Recently  Unspecified  \n",
       "3  Last Month   Non-Binary  \n",
       "4       Never         Male  \n",
       "5  McDonalds?         Male  "
      ]
     },
     "execution_count": 75,
     "metadata": {},
     "output_type": "execute_result"
    }
   ],
   "source": [
    "#placehold_s_df = placehold.fn_send_input_options()\n",
    "#placehold_s_df"
   ]
  },
  {
   "cell_type": "code",
   "execution_count": 76,
   "metadata": {},
   "outputs": [],
   "source": [
    "#s_df = placehold_s_df"
   ]
  },
  {
   "cell_type": "code",
   "execution_count": 2,
   "metadata": {},
   "outputs": [],
   "source": []
  },
  {
   "cell_type": "code",
   "execution_count": 3,
   "metadata": {},
   "outputs": [
    {
     "data": {
      "text/plain": [
       "{'exercise': ['Daily',\n",
       "  '5 times a week',\n",
       "  '4 times a week',\n",
       "  'couple times a week',\n",
       "  'rarely',\n",
       "  'never'],\n",
       " 'bmi': [18, 19, 20, 21, 22, 23],\n",
       " 'height': ['3ft something',\n",
       "  '4ft something',\n",
       "  '5ft something',\n",
       "  '6ft something',\n",
       "  '7ft something',\n",
       "  '8ft something'],\n",
       " 'weight': ['less than 150lbs',\n",
       "  'around 160lbs',\n",
       "  'around 170lbs',\n",
       "  'around 180lbs',\n",
       "  'around 190lbs',\n",
       "  '200lbs or larger'],\n",
       " 'diabetic': ['Yes', 'No', 'Yes', 'No', 'Yes', 'No'],\n",
       " 'mcdonalds': ['Today',\n",
       "  'Yesterday',\n",
       "  'Recently',\n",
       "  'Last Month',\n",
       "  'Never',\n",
       "  'McDonalds?'],\n",
       " 'new_gender': ['Female', 'Male', 'Unspecified', 'Non-Binary', 'Male', 'Male'],\n",
       " 'occupation': ['Farming, fishing, and forestry occupations',\n",
       "  'Construction and extraction occupations',\n",
       "  'Transportation and material moving occupations',\n",
       "  'Protective service occupations',\n",
       "  'Installation, maintenance, and repair occupations',\n",
       "  'Building and grounds cleaning and maintenance occupations',\n",
       "  'Management occupations',\n",
       "  'Arts, design, entertainment, sports, and media occupations',\n",
       "  'Production occupations',\n",
       "  'Sales and related occupations',\n",
       "  'Life, physical, and social science occupations',\n",
       "  'Legal occupations',\n",
       "  'Architecture and engineering occupations',\n",
       "  'Personal care and service occupations',\n",
       "  'Healthcare support occupations',\n",
       "  'Food preparation and serving related occupations',\n",
       "  'Healthcare practitioners and technical occupations',\n",
       "  'Business and financial operations occupations',\n",
       "  'Office and administrative support occupations',\n",
       "  'Education, training, and library occupations',\n",
       "  'Computer and mathematical occupations'],\n",
       " 'age': [0,\n",
       "  1,\n",
       "  2,\n",
       "  3,\n",
       "  4,\n",
       "  5,\n",
       "  6,\n",
       "  7,\n",
       "  8,\n",
       "  9,\n",
       "  10,\n",
       "  11,\n",
       "  12,\n",
       "  13,\n",
       "  14,\n",
       "  15,\n",
       "  16,\n",
       "  17,\n",
       "  18,\n",
       "  19,\n",
       "  20,\n",
       "  21,\n",
       "  22,\n",
       "  23,\n",
       "  24,\n",
       "  25,\n",
       "  26,\n",
       "  27,\n",
       "  28,\n",
       "  29,\n",
       "  30,\n",
       "  31,\n",
       "  32,\n",
       "  33,\n",
       "  34,\n",
       "  35,\n",
       "  36,\n",
       "  37,\n",
       "  38,\n",
       "  39,\n",
       "  40,\n",
       "  41,\n",
       "  42,\n",
       "  43,\n",
       "  44,\n",
       "  45,\n",
       "  46,\n",
       "  47,\n",
       "  48,\n",
       "  49,\n",
       "  50,\n",
       "  51,\n",
       "  52,\n",
       "  53,\n",
       "  54,\n",
       "  55,\n",
       "  56,\n",
       "  57,\n",
       "  58,\n",
       "  59,\n",
       "  60,\n",
       "  61,\n",
       "  62,\n",
       "  63,\n",
       "  64,\n",
       "  65,\n",
       "  66,\n",
       "  67,\n",
       "  68,\n",
       "  69,\n",
       "  70,\n",
       "  71,\n",
       "  72,\n",
       "  73,\n",
       "  74,\n",
       "  75,\n",
       "  76,\n",
       "  77,\n",
       "  78,\n",
       "  79,\n",
       "  80,\n",
       "  81,\n",
       "  82,\n",
       "  83,\n",
       "  84],\n",
       " 'race': ['American Indian or Alaska Native',\n",
       "  'Asian or Pacific Islander',\n",
       "  'Black or African American',\n",
       "  'White']}"
      ]
     },
     "execution_count": 3,
     "metadata": {},
     "output_type": "execute_result"
    }
   ],
   "source": [
    "input_options_dict"
   ]
  },
  {
   "cell_type": "code",
   "execution_count": 17,
   "metadata": {},
   "outputs": [
    {
     "data": {
      "application/vnd.jupyter.widget-view+json": {
       "model_id": "3e9552ee1a09471384861b8a8037f9ab",
       "version_major": 2,
       "version_minor": 0
      },
      "text/plain": [
       "interactive(children=(Dropdown(description='Age', options=(0, 1, 2, 3, 4, 5, 6, 7, 8, 9, 10, 11, 12, 13, 14, 1…"
      ]
     },
     "metadata": {},
     "output_type": "display_data"
    }
   ],
   "source": [
    "input_options_dict = placehold.fn_send_input_options()\n",
    "@interact_manual\n",
    "def collect_inputs_manual_gen(Age=input_options_dict[\"age\"],\n",
    "                              Occupation=sorted(input_options_dict[\"occupation\"]),\n",
    "                              Gender=sorted(input_options_dict[\"new_gender\"]),\n",
    "                              Race=sorted(input_options_dict[\"race\"]),\n",
    "                              Exercise=sorted(input_options_dict[\"exercise\"]),\n",
    "                              BMI=sorted(input_options_dict[\"bmi\"]),\n",
    "                              Height=sorted(input_options_dict[\"height\"]),\n",
    "                              #be careful of how this is sorted\n",
    "                              Weight=sorted(input_options_dict[\"weight\"]),\n",
    "                              McDonalds=sorted(input_options_dict[\"mcdonalds\"])):\n",
    "    return \"You will die of Atherosclerotic heart disease at the age of 88 years old on May 20th, 2080\"   "
   ]
  },
  {
   "cell_type": "markdown",
   "metadata": {},
   "source": [
    "Below is an example of ipywidgets interactive drop downs. I've intentionally made this example with a manual button.\n",
    "\n",
    "Some ideas for UI:\n",
    "1. Showing a live viz of the sim through your life, highlighting where you almost rolled a death!\n",
    "2. Highlighting how you stack up in estimated lifespan as you select parameters\n",
    "3. Storing for your viewing your previous simulation inputs and outputs\n",
    "4. ONLY RUN ONCE, PRE-DEATH CERTIFICATE\n",
    "    Limit based on name\n",
    "\n",
    "TODO dev:\n",
    "1. hardcoded parameter selectors INCLUDING OCCUPATION (or another interesting input)\n",
    "2. Binder\n",
    "3. Themes\n",
    "3. import both sim modules; build these in to interact\n",
    "    Does Binder allow you to run module functions outside of the notebook?\n",
    "4. unit testing\n",
    "5. git hub actions CI\n"
   ]
  },
  {
   "cell_type": "markdown",
   "metadata": {},
   "source": [
    "1. send list to module with 4 params\n",
    "2. Date, mechanism, cause come back as list or df\n",
    "3. Interact manual button then generates Death Cert"
   ]
  },
  {
   "cell_type": "code",
   "execution_count": 88,
   "metadata": {},
   "outputs": [
    {
     "data": {
      "application/vnd.jupyter.widget-view+json": {
       "model_id": "622b5f372b4f454a8fc0cfc24618e45f",
       "version_major": 2,
       "version_minor": 0
      },
      "text/plain": [
       "interactive(children=(Dropdown(description='Age', options=(0, 1, 2, 3, 4, 5, 6, 7, 8, 9, 10, 11, 12, 13, 14, 1…"
      ]
     },
     "metadata": {},
     "output_type": "display_data"
    }
   ],
   "source": [
    "@interact_manual\n",
    "def collect_inputs_manual_gen(Age=df.age.unique(),\n",
    "                              Occupation=sorted(occ_df.occupation.unique()),\n",
    "                              Gender=sorted(s_df.new_gender.unique()),\n",
    "                             Race=sorted(df.race.unique()),\n",
    "                             Exercise=sorted(s_df.exercise.unique()),\n",
    "                             BMI=sorted(s_df.bmi.unique()),\n",
    "                             Height=sorted(s_df.height.unique()),\n",
    "                              #be careful of how this is sorted\n",
    "                             Weight=sorted(s_df.weight.unique()),\n",
    "                             McDonalds=sorted(s_df.mcdonalds.unique())):\n",
    "    return \"You will die of Atherosclerotic heart disease at the age of 88 years old on May 20th, 2080\"   "
   ]
  },
  {
   "cell_type": "code",
   "execution_count": 39,
   "metadata": {},
   "outputs": [
    {
     "data": {
      "application/vnd.jupyter.widget-view+json": {
       "model_id": "dc91180b095f4d20b516229a50566372",
       "version_major": 2,
       "version_minor": 0
      },
      "text/plain": [
       "interactive(children=(Text(value='deaths', description='column'), IntSlider(value=5000, description='x', max=1…"
      ]
     },
     "metadata": {},
     "output_type": "display_data"
    }
   ],
   "source": [
    "\n",
    "@interact\n",
    "def show_deaths_more_than(column='deaths', x=5000):\n",
    "    return df.loc[df[column] > x]"
   ]
  },
  {
   "cell_type": "markdown",
   "metadata": {},
   "source": [
    "occ: 21\n",
    "gender: 2\n",
    "race: 4\n",
    "age: 101"
   ]
  },
  {
   "cell_type": "code",
   "execution_count": 89,
   "metadata": {},
   "outputs": [],
   "source": [
    "occ = occ_df.occupation"
   ]
  },
  {
   "cell_type": "code",
   "execution_count": 90,
   "metadata": {},
   "outputs": [],
   "source": [
    "s = {'exercise': ['Daily','5 times a week','4 times a week','couple times a week', 'rarely', 'never'],\n",
    "           'bmi': [18,19,20,21,22,23],\n",
    "           'height': ['3ft something', '4ft something', '5ft something', '6ft something', '7ft something', '8ft something'],\n",
    "           'weight': ['less than 150lbs', 'around 160lbs', 'around 170lbs', 'around 180lbs', 'around 190lbs', '200lbs or larger'],\n",
    "           'diabetic': ['Yes', 'No', 'Yes', 'No', 'Yes', 'No'],\n",
    "           'mcdonalds': ['Today', 'Yesterday', 'Recently', 'Last Month', 'Never', 'McDonalds?'],\n",
    "           'new_gender': ['Female', 'Male', 'Unspecified', 'Non-Binary', 'Male', 'Male']\n",
    "        }\n",
    "    "
   ]
  },
  {
   "cell_type": "code",
   "execution_count": 94,
   "metadata": {},
   "outputs": [],
   "source": [
    "s[\"occupation\"] = list(occ_df.occupation.unique())"
   ]
  },
  {
   "cell_type": "code",
   "execution_count": 99,
   "metadata": {
    "scrolled": true
   },
   "outputs": [
    {
     "data": {
      "text/plain": [
       "{'exercise': ['Daily',\n",
       "  '5 times a week',\n",
       "  '4 times a week',\n",
       "  'couple times a week',\n",
       "  'rarely',\n",
       "  'never'],\n",
       " 'bmi': [18, 19, 20, 21, 22, 23],\n",
       " 'height': ['3ft something',\n",
       "  '4ft something',\n",
       "  '5ft something',\n",
       "  '6ft something',\n",
       "  '7ft something',\n",
       "  '8ft something'],\n",
       " 'weight': ['less than 150lbs',\n",
       "  'around 160lbs',\n",
       "  'around 170lbs',\n",
       "  'around 180lbs',\n",
       "  'around 190lbs',\n",
       "  '200lbs or larger'],\n",
       " 'diabetic': ['Yes', 'No', 'Yes', 'No', 'Yes', 'No'],\n",
       " 'mcdonalds': ['Today',\n",
       "  'Yesterday',\n",
       "  'Recently',\n",
       "  'Last Month',\n",
       "  'Never',\n",
       "  'McDonalds?'],\n",
       " 'new_gender': ['Female', 'Male', 'Unspecified', 'Non-Binary', 'Male', 'Male'],\n",
       " 'occupation': ['Farming, fishing, and forestry',\n",
       "  'Construction and extraction',\n",
       "  'Transportation and material moving',\n",
       "  'Protective service',\n",
       "  'Installation, maintenance, and repair',\n",
       "  'Building and grounds cleaning and maintenance',\n",
       "  'Management',\n",
       "  'Arts, design, entertainment, sports, and media',\n",
       "  'Production',\n",
       "  'Sales and related',\n",
       "  'Life, physical, and social science',\n",
       "  'Legal',\n",
       "  'Architecture and engineering',\n",
       "  'Personal care and service',\n",
       "  'Healthcare support',\n",
       "  'Food preparation and serving related',\n",
       "  'Healthcare practitioners and technical',\n",
       "  'Business and financial operations',\n",
       "  'Office and administrative support',\n",
       "  'Education, training, and library',\n",
       "  'Computer and mathematical'],\n",
       " 'age': [0,\n",
       "  1,\n",
       "  2,\n",
       "  3,\n",
       "  4,\n",
       "  5,\n",
       "  6,\n",
       "  7,\n",
       "  8,\n",
       "  9,\n",
       "  10,\n",
       "  11,\n",
       "  12,\n",
       "  13,\n",
       "  14,\n",
       "  15,\n",
       "  16,\n",
       "  17,\n",
       "  18,\n",
       "  19,\n",
       "  20,\n",
       "  21,\n",
       "  22,\n",
       "  23,\n",
       "  24,\n",
       "  25,\n",
       "  26,\n",
       "  27,\n",
       "  28,\n",
       "  29,\n",
       "  30,\n",
       "  31,\n",
       "  32,\n",
       "  33,\n",
       "  34,\n",
       "  35,\n",
       "  36,\n",
       "  37,\n",
       "  38,\n",
       "  39,\n",
       "  40,\n",
       "  41,\n",
       "  42,\n",
       "  43,\n",
       "  44,\n",
       "  45,\n",
       "  46,\n",
       "  47,\n",
       "  48,\n",
       "  49,\n",
       "  50,\n",
       "  51,\n",
       "  52,\n",
       "  53,\n",
       "  54,\n",
       "  55,\n",
       "  56,\n",
       "  57,\n",
       "  58,\n",
       "  59,\n",
       "  60,\n",
       "  61,\n",
       "  62,\n",
       "  63,\n",
       "  64,\n",
       "  65,\n",
       "  66,\n",
       "  67,\n",
       "  68,\n",
       "  69,\n",
       "  70,\n",
       "  71,\n",
       "  72,\n",
       "  73,\n",
       "  74,\n",
       "  75,\n",
       "  76,\n",
       "  77,\n",
       "  78,\n",
       "  79,\n",
       "  80,\n",
       "  81,\n",
       "  82,\n",
       "  83,\n",
       "  84],\n",
       " 'race': ['American Indian or Alaska Native',\n",
       "  'Asian or Pacific Islander',\n",
       "  'Black or African American',\n",
       "  'White']}"
      ]
     },
     "execution_count": 99,
     "metadata": {},
     "output_type": "execute_result"
    }
   ],
   "source": [
    "s"
   ]
  },
  {
   "cell_type": "code",
   "execution_count": null,
   "metadata": {},
   "outputs": [],
   "source": []
  },
  {
   "cell_type": "code",
   "execution_count": 96,
   "metadata": {},
   "outputs": [],
   "source": [
    "s[\"age\"] = list(df.age.unique())"
   ]
  },
  {
   "cell_type": "code",
   "execution_count": null,
   "metadata": {},
   "outputs": [],
   "source": []
  },
  {
   "cell_type": "code",
   "execution_count": 98,
   "metadata": {},
   "outputs": [],
   "source": [
    "s[\"race\"] = list(df.race.unique())"
   ]
  },
  {
   "cell_type": "code",
   "execution_count": 6,
   "metadata": {},
   "outputs": [
    {
     "data": {
      "text/html": [
       "<div>\n",
       "<style scoped>\n",
       "    .dataframe tbody tr th:only-of-type {\n",
       "        vertical-align: middle;\n",
       "    }\n",
       "\n",
       "    .dataframe tbody tr th {\n",
       "        vertical-align: top;\n",
       "    }\n",
       "\n",
       "    .dataframe thead th {\n",
       "        text-align: right;\n",
       "    }\n",
       "</style>\n",
       "<table border=\"1\" class=\"dataframe\">\n",
       "  <thead>\n",
       "    <tr style=\"text-align: right;\">\n",
       "      <th></th>\n",
       "      <th>age</th>\n",
       "      <th>gender</th>\n",
       "      <th>race</th>\n",
       "      <th>mechanism_of_death</th>\n",
       "      <th>cause_of_death</th>\n",
       "      <th>deaths</th>\n",
       "      <th>population</th>\n",
       "    </tr>\n",
       "  </thead>\n",
       "  <tbody>\n",
       "    <tr>\n",
       "      <th>0</th>\n",
       "      <td>0</td>\n",
       "      <td>Female</td>\n",
       "      <td>American Indian or Alaska Native</td>\n",
       "      <td>Fire/Flame</td>\n",
       "      <td>Exposure to uncontrolled fire in building or s...</td>\n",
       "      <td>1</td>\n",
       "      <td>36615</td>\n",
       "    </tr>\n",
       "    <tr>\n",
       "      <th>1</th>\n",
       "      <td>0</td>\n",
       "      <td>Female</td>\n",
       "      <td>American Indian or Alaska Native</td>\n",
       "      <td>Motor Vehicle Traffic</td>\n",
       "      <td>Car occupant injured in collision with heavy t...</td>\n",
       "      <td>1</td>\n",
       "      <td>36615</td>\n",
       "    </tr>\n",
       "    <tr>\n",
       "      <th>2</th>\n",
       "      <td>0</td>\n",
       "      <td>Female</td>\n",
       "      <td>American Indian or Alaska Native</td>\n",
       "      <td>Motor Vehicle Traffic</td>\n",
       "      <td>Person injured in unspecified motor-vehicle ac...</td>\n",
       "      <td>1</td>\n",
       "      <td>36615</td>\n",
       "    </tr>\n",
       "    <tr>\n",
       "      <th>3</th>\n",
       "      <td>0</td>\n",
       "      <td>Female</td>\n",
       "      <td>American Indian or Alaska Native</td>\n",
       "      <td>Suffocation</td>\n",
       "      <td>Accidental suffocation and strangulation in bed</td>\n",
       "      <td>7</td>\n",
       "      <td>36615</td>\n",
       "    </tr>\n",
       "    <tr>\n",
       "      <th>4</th>\n",
       "      <td>0</td>\n",
       "      <td>Female</td>\n",
       "      <td>American Indian or Alaska Native</td>\n",
       "      <td>Suffocation</td>\n",
       "      <td>Unspecified threat to breathing</td>\n",
       "      <td>3</td>\n",
       "      <td>36615</td>\n",
       "    </tr>\n",
       "  </tbody>\n",
       "</table>\n",
       "</div>"
      ],
      "text/plain": [
       "   age  gender                              race     mechanism_of_death  \\\n",
       "0    0  Female  American Indian or Alaska Native             Fire/Flame   \n",
       "1    0  Female  American Indian or Alaska Native  Motor Vehicle Traffic   \n",
       "2    0  Female  American Indian or Alaska Native  Motor Vehicle Traffic   \n",
       "3    0  Female  American Indian or Alaska Native            Suffocation   \n",
       "4    0  Female  American Indian or Alaska Native            Suffocation   \n",
       "\n",
       "                                      cause_of_death  deaths population  \n",
       "0  Exposure to uncontrolled fire in building or s...       1      36615  \n",
       "1  Car occupant injured in collision with heavy t...       1      36615  \n",
       "2  Person injured in unspecified motor-vehicle ac...       1      36615  \n",
       "3    Accidental suffocation and strangulation in bed       7      36615  \n",
       "4                    Unspecified threat to breathing       3      36615  "
      ]
     },
     "execution_count": 6,
     "metadata": {},
     "output_type": "execute_result"
    }
   ],
   "source": [
    "df.head()"
   ]
  },
  {
   "cell_type": "code",
   "execution_count": 10,
   "metadata": {},
   "outputs": [
    {
     "data": {
      "text/plain": [
       "array(['American Indian or Alaska Native', 'Asian or Pacific Islander',\n",
       "       'Black or African American', 'White'], dtype=object)"
      ]
     },
     "execution_count": 10,
     "metadata": {},
     "output_type": "execute_result"
    }
   ],
   "source": [
    "df.race.unique()"
   ]
  },
  {
   "cell_type": "code",
   "execution_count": 11,
   "metadata": {},
   "outputs": [
    {
     "data": {
      "application/vnd.jupyter.widget-view+json": {
       "model_id": "947a24a25b06410787e4e6b6a6a8e033",
       "version_major": 2,
       "version_minor": 0
      },
      "text/plain": [
       "interactive(children=(Dropdown(description='row1', options=('American Indian or Alaska Native', 'Asian or Paci…"
      ]
     },
     "metadata": {},
     "output_type": "display_data"
    }
   ],
   "source": [
    "@interact_manual\n",
    "def collect_inputs_manual_gen(row1=df.race.unique()):\n",
    "    return \"testing\""
   ]
  },
  {
   "cell_type": "code",
   "execution_count": 19,
   "metadata": {},
   "outputs": [
    {
     "data": {
      "application/vnd.jupyter.widget-view+json": {
       "model_id": "4b687eb8fa754c699a3796d94c48885d",
       "version_major": 2,
       "version_minor": 0
      },
      "text/plain": [
       "interactive(children=(Dropdown(description='Race', options=('American Indian or Alaska Native', 'Asian or Paci…"
      ]
     },
     "metadata": {},
     "output_type": "display_data"
    }
   ],
   "source": [
    "@interact_manual\n",
    "def collect_inputs_manual_gen(Race=df.race.unique(),\n",
    "                              Age=df.age.unique(),\n",
    "                              Gender=df.gender.unique()):\n",
    "    return \"You will die of Atherosclerotic heart disease at the age of 88 years old on May 20th, 2080\"    "
   ]
  },
  {
   "cell_type": "code",
   "execution_count": null,
   "metadata": {},
   "outputs": [],
   "source": []
  },
  {
   "cell_type": "code",
   "execution_count": null,
   "metadata": {},
   "outputs": [],
   "source": []
  }
 ],
 "metadata": {
  "kernelspec": {
   "display_name": "Python 3",
   "language": "python",
   "name": "python3"
  },
  "language_info": {
   "codemirror_mode": {
    "name": "ipython",
    "version": 3
   },
   "file_extension": ".py",
   "mimetype": "text/x-python",
   "name": "python",
   "nbconvert_exporter": "python",
   "pygments_lexer": "ipython3",
   "version": "3.7.1"
  }
 },
 "nbformat": 4,
 "nbformat_minor": 2
}
