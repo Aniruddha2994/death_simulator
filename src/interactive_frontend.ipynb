{
 "cells": [
  {
   "cell_type": "markdown",
   "metadata": {},
   "source": [
    "## Version 1 of the Death Simulator front end via Jupyter Notebooks + ipywidgets + Binder"
   ]
  },
  {
   "cell_type": "markdown",
   "metadata": {},
   "source": [
    "Reference: https://towardsdatascience.com/interactive-controls-for-jupyter-notebooks-f5c94829aee6"
   ]
  },
  {
   "cell_type": "code",
   "execution_count": 73,
   "metadata": {},
   "outputs": [],
   "source": [
    "#THESE NEED TO BE IN THE REQUIREMENTS.TXT\n",
    "\n",
    "import ipywidgets as widgets\n",
    "from ipywidgets import interact, interact_manual\n",
    "\n",
    "import pandas as pd\n",
    "import numpy as np\n",
    "import placehold"
   ]
  },
  {
   "cell_type": "code",
   "execution_count": 4,
   "metadata": {},
   "outputs": [
    {
     "name": "stderr",
     "output_type": "stream",
     "text": [
      "/Users/Thomas/anaconda3/lib/python3.7/site-packages/IPython/core/interactiveshell.py:3020: DtypeWarning: Columns (6) have mixed types. Specify dtype option on import or set low_memory=False.\n",
      "  interactivity=interactivity, compiler=compiler, result=result)\n"
     ]
    }
   ],
   "source": [
    "#Column 6 has mixed types! deaths? population? Ignoring warning for now\n",
    "df = pd.read_csv('../data/deaths_age_gender_race_mechanism_cause.csv')"
   ]
  },
  {
   "cell_type": "markdown",
   "metadata": {},
   "source": [
    "### The idea is to walk the user through selecting the parameters that define themself or their hypothetical person.\n",
    "1. First we will ask for their exact date of birth (false precision, we will calc age off of that)\n",
    "2. Then gender\n",
    "    make sure to include unspecified\n",
    "3. Then we will ask them to select their occupation from the list of occupations\n",
    "4. Then race\n",
    "--- False inputs ---\n",
    "5. Regular exercise\n",
    "6. BMI\n",
    "7. Height + Weight\n",
    "8. Are you a McDonalds regular?\n",
    "9. Diabetic boolean\n",
    "\n",
    "\n",
    "\n"
   ]
  },
  {
   "cell_type": "code",
   "execution_count": 57,
   "metadata": {},
   "outputs": [],
   "source": [
    "special = {'exercise': ['Daily','5 times a week','4 times a week','couple times a week', 'rarely', 'never'],\n",
    "           'bmi': [18,19,20,21,22,23],\n",
    "           'height': ['3ft something', '4ft something', '5ft something', '6ft something', '7ft something', '8ft something'],\n",
    "           'weight': ['less than 150lbs', 'around 160lbs', 'around 170lbs', 'around 180lbs', 'around 190lbs', '200lbs or larger'],\n",
    "           'diabetic': ['Yes', 'No', 'Yes', 'No', 'Yes', 'No'],\n",
    "           'mcdonalds': ['Today', 'Yesterday', 'Recently', 'Last Month', 'Never', 'McDonalds?'],\n",
    "           'new_gender': ['Female', 'Male', 'Unspecified', 'Non-Binary', 'Male', 'Male']\n",
    "        }\n",
    "\n",
    "s_df = pd.DataFrame(special, columns = ['exercise', 'bmi', 'height', 'weight', 'diabetic', 'mcdonalds', 'new_gender'])\n"
   ]
  },
  {
   "cell_type": "code",
   "execution_count": 58,
   "metadata": {
    "scrolled": false
   },
   "outputs": [
    {
     "data": {
      "text/html": [
       "<div>\n",
       "<style scoped>\n",
       "    .dataframe tbody tr th:only-of-type {\n",
       "        vertical-align: middle;\n",
       "    }\n",
       "\n",
       "    .dataframe tbody tr th {\n",
       "        vertical-align: top;\n",
       "    }\n",
       "\n",
       "    .dataframe thead th {\n",
       "        text-align: right;\n",
       "    }\n",
       "</style>\n",
       "<table border=\"1\" class=\"dataframe\">\n",
       "  <thead>\n",
       "    <tr style=\"text-align: right;\">\n",
       "      <th></th>\n",
       "      <th>exercise</th>\n",
       "      <th>bmi</th>\n",
       "      <th>height</th>\n",
       "      <th>weight</th>\n",
       "      <th>diabetic</th>\n",
       "      <th>mcdonalds</th>\n",
       "      <th>new_gender</th>\n",
       "    </tr>\n",
       "  </thead>\n",
       "  <tbody>\n",
       "    <tr>\n",
       "      <th>0</th>\n",
       "      <td>Daily</td>\n",
       "      <td>18</td>\n",
       "      <td>3ft something</td>\n",
       "      <td>less than 150lbs</td>\n",
       "      <td>Yes</td>\n",
       "      <td>Today</td>\n",
       "      <td>Female</td>\n",
       "    </tr>\n",
       "    <tr>\n",
       "      <th>1</th>\n",
       "      <td>5 times a week</td>\n",
       "      <td>19</td>\n",
       "      <td>4ft something</td>\n",
       "      <td>around 160lbs</td>\n",
       "      <td>No</td>\n",
       "      <td>Yesterday</td>\n",
       "      <td>Male</td>\n",
       "    </tr>\n",
       "    <tr>\n",
       "      <th>2</th>\n",
       "      <td>4 times a week</td>\n",
       "      <td>20</td>\n",
       "      <td>5ft something</td>\n",
       "      <td>around 170lbs</td>\n",
       "      <td>Yes</td>\n",
       "      <td>Recently</td>\n",
       "      <td>Unspecified</td>\n",
       "    </tr>\n",
       "    <tr>\n",
       "      <th>3</th>\n",
       "      <td>couple times a week</td>\n",
       "      <td>21</td>\n",
       "      <td>6ft something</td>\n",
       "      <td>around 180lbs</td>\n",
       "      <td>No</td>\n",
       "      <td>Last Month</td>\n",
       "      <td>Non-Binary</td>\n",
       "    </tr>\n",
       "    <tr>\n",
       "      <th>4</th>\n",
       "      <td>rarely</td>\n",
       "      <td>22</td>\n",
       "      <td>7ft something</td>\n",
       "      <td>around 190lbs</td>\n",
       "      <td>Yes</td>\n",
       "      <td>Never</td>\n",
       "      <td>Male</td>\n",
       "    </tr>\n",
       "    <tr>\n",
       "      <th>5</th>\n",
       "      <td>never</td>\n",
       "      <td>23</td>\n",
       "      <td>8ft something</td>\n",
       "      <td>200lbs or larger</td>\n",
       "      <td>No</td>\n",
       "      <td>McDonalds?</td>\n",
       "      <td>Male</td>\n",
       "    </tr>\n",
       "  </tbody>\n",
       "</table>\n",
       "</div>"
      ],
      "text/plain": [
       "              exercise  bmi         height            weight diabetic  \\\n",
       "0                Daily   18  3ft something  less than 150lbs      Yes   \n",
       "1       5 times a week   19  4ft something     around 160lbs       No   \n",
       "2       4 times a week   20  5ft something     around 170lbs      Yes   \n",
       "3  couple times a week   21  6ft something     around 180lbs       No   \n",
       "4               rarely   22  7ft something     around 190lbs      Yes   \n",
       "5                never   23  8ft something  200lbs or larger       No   \n",
       "\n",
       "    mcdonalds   new_gender  \n",
       "0       Today       Female  \n",
       "1   Yesterday         Male  \n",
       "2    Recently  Unspecified  \n",
       "3  Last Month   Non-Binary  \n",
       "4       Never         Male  \n",
       "5  McDonalds?         Male  "
      ]
     },
     "execution_count": 58,
     "metadata": {},
     "output_type": "execute_result"
    }
   ],
   "source": [
    "s_df"
   ]
  },
  {
   "cell_type": "code",
   "execution_count": 75,
   "metadata": {
    "scrolled": false
   },
   "outputs": [
    {
     "data": {
      "text/html": [
       "<div>\n",
       "<style scoped>\n",
       "    .dataframe tbody tr th:only-of-type {\n",
       "        vertical-align: middle;\n",
       "    }\n",
       "\n",
       "    .dataframe tbody tr th {\n",
       "        vertical-align: top;\n",
       "    }\n",
       "\n",
       "    .dataframe thead th {\n",
       "        text-align: right;\n",
       "    }\n",
       "</style>\n",
       "<table border=\"1\" class=\"dataframe\">\n",
       "  <thead>\n",
       "    <tr style=\"text-align: right;\">\n",
       "      <th></th>\n",
       "      <th>exercise</th>\n",
       "      <th>bmi</th>\n",
       "      <th>height</th>\n",
       "      <th>weight</th>\n",
       "      <th>diabetic</th>\n",
       "      <th>mcdonalds</th>\n",
       "      <th>new_gender</th>\n",
       "    </tr>\n",
       "  </thead>\n",
       "  <tbody>\n",
       "    <tr>\n",
       "      <th>0</th>\n",
       "      <td>Daily</td>\n",
       "      <td>18</td>\n",
       "      <td>3ft something</td>\n",
       "      <td>less than 150lbs</td>\n",
       "      <td>Yes</td>\n",
       "      <td>Today</td>\n",
       "      <td>Female</td>\n",
       "    </tr>\n",
       "    <tr>\n",
       "      <th>1</th>\n",
       "      <td>5 times a week</td>\n",
       "      <td>19</td>\n",
       "      <td>4ft something</td>\n",
       "      <td>around 160lbs</td>\n",
       "      <td>No</td>\n",
       "      <td>Yesterday</td>\n",
       "      <td>Male</td>\n",
       "    </tr>\n",
       "    <tr>\n",
       "      <th>2</th>\n",
       "      <td>4 times a week</td>\n",
       "      <td>20</td>\n",
       "      <td>5ft something</td>\n",
       "      <td>around 170lbs</td>\n",
       "      <td>Yes</td>\n",
       "      <td>Recently</td>\n",
       "      <td>Unspecified</td>\n",
       "    </tr>\n",
       "    <tr>\n",
       "      <th>3</th>\n",
       "      <td>couple times a week</td>\n",
       "      <td>21</td>\n",
       "      <td>6ft something</td>\n",
       "      <td>around 180lbs</td>\n",
       "      <td>No</td>\n",
       "      <td>Last Month</td>\n",
       "      <td>Non-Binary</td>\n",
       "    </tr>\n",
       "    <tr>\n",
       "      <th>4</th>\n",
       "      <td>rarely</td>\n",
       "      <td>22</td>\n",
       "      <td>7ft something</td>\n",
       "      <td>around 190lbs</td>\n",
       "      <td>Yes</td>\n",
       "      <td>Never</td>\n",
       "      <td>Male</td>\n",
       "    </tr>\n",
       "    <tr>\n",
       "      <th>5</th>\n",
       "      <td>never</td>\n",
       "      <td>23</td>\n",
       "      <td>8ft something</td>\n",
       "      <td>200lbs or larger</td>\n",
       "      <td>No</td>\n",
       "      <td>McDonalds?</td>\n",
       "      <td>Male</td>\n",
       "    </tr>\n",
       "  </tbody>\n",
       "</table>\n",
       "</div>"
      ],
      "text/plain": [
       "              exercise  bmi         height            weight diabetic  \\\n",
       "0                Daily   18  3ft something  less than 150lbs      Yes   \n",
       "1       5 times a week   19  4ft something     around 160lbs       No   \n",
       "2       4 times a week   20  5ft something     around 170lbs      Yes   \n",
       "3  couple times a week   21  6ft something     around 180lbs       No   \n",
       "4               rarely   22  7ft something     around 190lbs      Yes   \n",
       "5                never   23  8ft something  200lbs or larger       No   \n",
       "\n",
       "    mcdonalds   new_gender  \n",
       "0       Today       Female  \n",
       "1   Yesterday         Male  \n",
       "2    Recently  Unspecified  \n",
       "3  Last Month   Non-Binary  \n",
       "4       Never         Male  \n",
       "5  McDonalds?         Male  "
      ]
     },
     "execution_count": 75,
     "metadata": {},
     "output_type": "execute_result"
    }
   ],
   "source": [
    "placehold_s_df = placehold.fn_send_input_options()\n",
    "placehold_s_df"
   ]
  },
  {
   "cell_type": "code",
   "execution_count": 76,
   "metadata": {},
   "outputs": [],
   "source": [
    "s_df = placehold_s_df"
   ]
  },
  {
   "cell_type": "markdown",
   "metadata": {},
   "source": [
    "Below is an example of ipywidgets interactive drop downs. I've intentionally made this example with a manual button.\n",
    "\n",
    "Some ideas for UI:\n",
    "1. Showing a live viz of the sim through your life, highlighting where you almost rolled a death!\n",
    "2. Highlighting how you stack up in estimated lifespan as you select parameters\n",
    "3. Storing for your viewing your previous simulation inputs and outputs\n",
    "4. ONLY RUN ONCE, PRE-DEATH CERTIFICATE\n",
    "    Limit based on name\n",
    "\n",
    "TODO dev:\n",
    "1. hardcoded parameter selectors INCLUDING OCCUPATION (or another interesting input)\n",
    "2. Binder\n",
    "3. Themes\n",
    "3. import both sim modules; build these in to interact\n",
    "    Does Binder allow you to run module functions outside of the notebook?\n",
    "4. unit testing\n",
    "5. git hub actions CI\n"
   ]
  },
  {
   "cell_type": "markdown",
   "metadata": {},
   "source": [
    "1. send list to module with 4 params\n",
    "2. Date, mechanism, cause come back as list or df\n",
    "3. Interact manual button then generates Death Cert"
   ]
  },
  {
   "cell_type": "code",
   "execution_count": 77,
   "metadata": {},
   "outputs": [
    {
     "data": {
      "application/vnd.jupyter.widget-view+json": {
       "model_id": "ffced954ef8c48d2a8a88bfdf68218ca",
       "version_major": 2,
       "version_minor": 0
      },
      "text/plain": [
       "interactive(children=(Dropdown(description='Race', options=('American Indian or Alaska Native', 'Asian or Paci…"
      ]
     },
     "metadata": {},
     "output_type": "display_data"
    }
   ],
   "source": [
    "@interact_manual\n",
    "def collect_inputs_manual_gen(Race=df.race.unique(),\n",
    "                              Age=df.age.unique(),\n",
    "                              Gender=s_df.new_gender.unique(),\n",
    "                             Exercise=s_df.exercise.unique(),\n",
    "                             BMI=s_df.bmi.unique(),\n",
    "                             Height=s_df.height.unique(),\n",
    "                             Weight=s_df.weight.unique(),\n",
    "                             McDonalds=s_df.mcdonalds.unique()):\n",
    "    return \"You will die of Atherosclerotic heart disease at the age of 88 years old on May 20th, 2080\"   "
   ]
  },
  {
   "cell_type": "code",
   "execution_count": 39,
   "metadata": {},
   "outputs": [
    {
     "data": {
      "application/vnd.jupyter.widget-view+json": {
       "model_id": "dc91180b095f4d20b516229a50566372",
       "version_major": 2,
       "version_minor": 0
      },
      "text/plain": [
       "interactive(children=(Text(value='deaths', description='column'), IntSlider(value=5000, description='x', max=1…"
      ]
     },
     "metadata": {},
     "output_type": "display_data"
    }
   ],
   "source": [
    "\n",
    "@interact\n",
    "def show_deaths_more_than(column='deaths', x=5000):\n",
    "    return df.loc[df[column] > x]"
   ]
  },
  {
   "cell_type": "code",
   "execution_count": null,
   "metadata": {},
   "outputs": [],
   "source": []
  },
  {
   "cell_type": "code",
   "execution_count": null,
   "metadata": {},
   "outputs": [],
   "source": []
  },
  {
   "cell_type": "code",
   "execution_count": null,
   "metadata": {},
   "outputs": [],
   "source": []
  },
  {
   "cell_type": "code",
   "execution_count": null,
   "metadata": {},
   "outputs": [],
   "source": []
  },
  {
   "cell_type": "code",
   "execution_count": 6,
   "metadata": {},
   "outputs": [
    {
     "data": {
      "text/html": [
       "<div>\n",
       "<style scoped>\n",
       "    .dataframe tbody tr th:only-of-type {\n",
       "        vertical-align: middle;\n",
       "    }\n",
       "\n",
       "    .dataframe tbody tr th {\n",
       "        vertical-align: top;\n",
       "    }\n",
       "\n",
       "    .dataframe thead th {\n",
       "        text-align: right;\n",
       "    }\n",
       "</style>\n",
       "<table border=\"1\" class=\"dataframe\">\n",
       "  <thead>\n",
       "    <tr style=\"text-align: right;\">\n",
       "      <th></th>\n",
       "      <th>age</th>\n",
       "      <th>gender</th>\n",
       "      <th>race</th>\n",
       "      <th>mechanism_of_death</th>\n",
       "      <th>cause_of_death</th>\n",
       "      <th>deaths</th>\n",
       "      <th>population</th>\n",
       "    </tr>\n",
       "  </thead>\n",
       "  <tbody>\n",
       "    <tr>\n",
       "      <th>0</th>\n",
       "      <td>0</td>\n",
       "      <td>Female</td>\n",
       "      <td>American Indian or Alaska Native</td>\n",
       "      <td>Fire/Flame</td>\n",
       "      <td>Exposure to uncontrolled fire in building or s...</td>\n",
       "      <td>1</td>\n",
       "      <td>36615</td>\n",
       "    </tr>\n",
       "    <tr>\n",
       "      <th>1</th>\n",
       "      <td>0</td>\n",
       "      <td>Female</td>\n",
       "      <td>American Indian or Alaska Native</td>\n",
       "      <td>Motor Vehicle Traffic</td>\n",
       "      <td>Car occupant injured in collision with heavy t...</td>\n",
       "      <td>1</td>\n",
       "      <td>36615</td>\n",
       "    </tr>\n",
       "    <tr>\n",
       "      <th>2</th>\n",
       "      <td>0</td>\n",
       "      <td>Female</td>\n",
       "      <td>American Indian or Alaska Native</td>\n",
       "      <td>Motor Vehicle Traffic</td>\n",
       "      <td>Person injured in unspecified motor-vehicle ac...</td>\n",
       "      <td>1</td>\n",
       "      <td>36615</td>\n",
       "    </tr>\n",
       "    <tr>\n",
       "      <th>3</th>\n",
       "      <td>0</td>\n",
       "      <td>Female</td>\n",
       "      <td>American Indian or Alaska Native</td>\n",
       "      <td>Suffocation</td>\n",
       "      <td>Accidental suffocation and strangulation in bed</td>\n",
       "      <td>7</td>\n",
       "      <td>36615</td>\n",
       "    </tr>\n",
       "    <tr>\n",
       "      <th>4</th>\n",
       "      <td>0</td>\n",
       "      <td>Female</td>\n",
       "      <td>American Indian or Alaska Native</td>\n",
       "      <td>Suffocation</td>\n",
       "      <td>Unspecified threat to breathing</td>\n",
       "      <td>3</td>\n",
       "      <td>36615</td>\n",
       "    </tr>\n",
       "  </tbody>\n",
       "</table>\n",
       "</div>"
      ],
      "text/plain": [
       "   age  gender                              race     mechanism_of_death  \\\n",
       "0    0  Female  American Indian or Alaska Native             Fire/Flame   \n",
       "1    0  Female  American Indian or Alaska Native  Motor Vehicle Traffic   \n",
       "2    0  Female  American Indian or Alaska Native  Motor Vehicle Traffic   \n",
       "3    0  Female  American Indian or Alaska Native            Suffocation   \n",
       "4    0  Female  American Indian or Alaska Native            Suffocation   \n",
       "\n",
       "                                      cause_of_death  deaths population  \n",
       "0  Exposure to uncontrolled fire in building or s...       1      36615  \n",
       "1  Car occupant injured in collision with heavy t...       1      36615  \n",
       "2  Person injured in unspecified motor-vehicle ac...       1      36615  \n",
       "3    Accidental suffocation and strangulation in bed       7      36615  \n",
       "4                    Unspecified threat to breathing       3      36615  "
      ]
     },
     "execution_count": 6,
     "metadata": {},
     "output_type": "execute_result"
    }
   ],
   "source": [
    "df.head()"
   ]
  },
  {
   "cell_type": "code",
   "execution_count": 10,
   "metadata": {},
   "outputs": [
    {
     "data": {
      "text/plain": [
       "array(['American Indian or Alaska Native', 'Asian or Pacific Islander',\n",
       "       'Black or African American', 'White'], dtype=object)"
      ]
     },
     "execution_count": 10,
     "metadata": {},
     "output_type": "execute_result"
    }
   ],
   "source": [
    "df.race.unique()"
   ]
  },
  {
   "cell_type": "code",
   "execution_count": 11,
   "metadata": {},
   "outputs": [
    {
     "data": {
      "application/vnd.jupyter.widget-view+json": {
       "model_id": "947a24a25b06410787e4e6b6a6a8e033",
       "version_major": 2,
       "version_minor": 0
      },
      "text/plain": [
       "interactive(children=(Dropdown(description='row1', options=('American Indian or Alaska Native', 'Asian or Paci…"
      ]
     },
     "metadata": {},
     "output_type": "display_data"
    }
   ],
   "source": [
    "@interact_manual\n",
    "def collect_inputs_manual_gen(row1=df.race.unique()):\n",
    "    return \"testing\""
   ]
  },
  {
   "cell_type": "code",
   "execution_count": 19,
   "metadata": {},
   "outputs": [
    {
     "data": {
      "application/vnd.jupyter.widget-view+json": {
       "model_id": "4b687eb8fa754c699a3796d94c48885d",
       "version_major": 2,
       "version_minor": 0
      },
      "text/plain": [
       "interactive(children=(Dropdown(description='Race', options=('American Indian or Alaska Native', 'Asian or Paci…"
      ]
     },
     "metadata": {},
     "output_type": "display_data"
    }
   ],
   "source": [
    "@interact_manual\n",
    "def collect_inputs_manual_gen(Race=df.race.unique(),\n",
    "                              Age=df.age.unique(),\n",
    "                              Gender=df.gender.unique()):\n",
    "    return \"You will die of Atherosclerotic heart disease at the age of 88 years old on May 20th, 2080\"    "
   ]
  },
  {
   "cell_type": "code",
   "execution_count": null,
   "metadata": {},
   "outputs": [],
   "source": []
  },
  {
   "cell_type": "code",
   "execution_count": null,
   "metadata": {},
   "outputs": [],
   "source": []
  }
 ],
 "metadata": {
  "kernelspec": {
   "display_name": "Python 3",
   "language": "python",
   "name": "python3"
  },
  "language_info": {
   "codemirror_mode": {
    "name": "ipython",
    "version": 3
   },
   "file_extension": ".py",
   "mimetype": "text/x-python",
   "name": "python",
   "nbconvert_exporter": "python",
   "pygments_lexer": "ipython3",
   "version": "3.7.1"
  }
 },
 "nbformat": 4,
 "nbformat_minor": 2
}
