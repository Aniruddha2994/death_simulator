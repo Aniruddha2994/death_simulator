{
 "cells": [
  {
   "cell_type": "markdown",
   "metadata": {},
   "source": [
    "## Version 1 of the Death Simulator front end via Jupyter Notebooks + ipywidgets + Binder"
   ]
  },
  {
   "cell_type": "markdown",
   "metadata": {},
   "source": [
    "Reference: https://towardsdatascience.com/interactive-controls-for-jupyter-notebooks-f5c94829aee6"
   ]
  },
  {
   "cell_type": "code",
   "execution_count": 3,
   "metadata": {},
   "outputs": [],
   "source": [
    "import ipywidgets as widgets\n",
    "from ipywidgets import interact, interact_manual\n",
    "\n",
    "import pandas as pd\n",
    "import numpy as np"
   ]
  },
  {
   "cell_type": "code",
   "execution_count": 4,
   "metadata": {},
   "outputs": [
    {
     "name": "stderr",
     "output_type": "stream",
     "text": [
      "/Users/Thomas/anaconda3/lib/python3.7/site-packages/IPython/core/interactiveshell.py:3020: DtypeWarning: Columns (6) have mixed types. Specify dtype option on import or set low_memory=False.\n",
      "  interactivity=interactivity, compiler=compiler, result=result)\n"
     ]
    }
   ],
   "source": [
    "#Column 6 has mixed types! deaths? population? Ignoring warning for now\n",
    "df = pd.read_csv('../data/deaths_age_gender_race_mechanism_cause.csv')"
   ]
  },
  {
   "cell_type": "markdown",
   "metadata": {},
   "source": [
    "### The idea is to walk the user through selecting the parameters that define themself or their hypothetical person.\n",
    "1. First we will ask for their exact date of birth (false precision, we will calc age off of that)\n",
    "2. Then gender\n",
    "3. Then we will ask them to select their occupation from the list of occupations\n",
    "4. Then race\n",
    "5. etc.\n",
    "\n",
    "\n",
    "\n"
   ]
  },
  {
   "cell_type": "markdown",
   "metadata": {},
   "source": [
    "Below is an example of ipywidgets interactive drop downs. I've intentionally made this example with a manual button.\n",
    "\n",
    "Some ideas for UI:\n",
    "1. Showing a live viz of the sim through your life, highlighting where you almost rolled a death!\n",
    "2. Highlighting how you stack up in estimated lifespan as you select parameters\n",
    "3. Storing for your viewing your previous simulation inputs and outputs\n",
    "\n",
    "TODO dev:\n",
    "1. hardcoded parameter selectors INCLUDING OCCUPATION (or another interesting input)\n",
    "2. Binder\n",
    "3. import both sim modules; build these in to interact\n",
    "4. unit testing\n",
    "5. git hub actions CI\n"
   ]
  },
  {
   "cell_type": "code",
   "execution_count": 20,
   "metadata": {},
   "outputs": [
    {
     "data": {
      "application/vnd.jupyter.widget-view+json": {
       "model_id": "ff2109688b74474f8fcf4fc122bd921a",
       "version_major": 2,
       "version_minor": 0
      },
      "text/plain": [
       "interactive(children=(Dropdown(description='Race', options=('American Indian or Alaska Native', 'Asian or Paci…"
      ]
     },
     "metadata": {},
     "output_type": "display_data"
    }
   ],
   "source": [
    "@interact_manual\n",
    "def collect_inputs_manual_gen(Race=df.race.unique(),\n",
    "                              Age=df.age.unique(),\n",
    "                              Gender=df.gender.unique()):\n",
    "    return \"You will die of Atherosclerotic heart disease at the age of 88 years old on May 20th, 2080\"   "
   ]
  },
  {
   "cell_type": "code",
   "execution_count": null,
   "metadata": {},
   "outputs": [],
   "source": [
    "\n",
    "@interact\n",
    "def show_deaths_more_than(column='deaths', x=5000):\n",
    "    return df.loc[df[column] > x]"
   ]
  },
  {
   "cell_type": "code",
   "execution_count": null,
   "metadata": {},
   "outputs": [],
   "source": []
  },
  {
   "cell_type": "code",
   "execution_count": null,
   "metadata": {},
   "outputs": [],
   "source": []
  },
  {
   "cell_type": "code",
   "execution_count": null,
   "metadata": {},
   "outputs": [],
   "source": []
  },
  {
   "cell_type": "code",
   "execution_count": null,
   "metadata": {},
   "outputs": [],
   "source": []
  },
  {
   "cell_type": "code",
   "execution_count": 6,
   "metadata": {},
   "outputs": [
    {
     "data": {
      "text/html": [
       "<div>\n",
       "<style scoped>\n",
       "    .dataframe tbody tr th:only-of-type {\n",
       "        vertical-align: middle;\n",
       "    }\n",
       "\n",
       "    .dataframe tbody tr th {\n",
       "        vertical-align: top;\n",
       "    }\n",
       "\n",
       "    .dataframe thead th {\n",
       "        text-align: right;\n",
       "    }\n",
       "</style>\n",
       "<table border=\"1\" class=\"dataframe\">\n",
       "  <thead>\n",
       "    <tr style=\"text-align: right;\">\n",
       "      <th></th>\n",
       "      <th>age</th>\n",
       "      <th>gender</th>\n",
       "      <th>race</th>\n",
       "      <th>mechanism_of_death</th>\n",
       "      <th>cause_of_death</th>\n",
       "      <th>deaths</th>\n",
       "      <th>population</th>\n",
       "    </tr>\n",
       "  </thead>\n",
       "  <tbody>\n",
       "    <tr>\n",
       "      <th>0</th>\n",
       "      <td>0</td>\n",
       "      <td>Female</td>\n",
       "      <td>American Indian or Alaska Native</td>\n",
       "      <td>Fire/Flame</td>\n",
       "      <td>Exposure to uncontrolled fire in building or s...</td>\n",
       "      <td>1</td>\n",
       "      <td>36615</td>\n",
       "    </tr>\n",
       "    <tr>\n",
       "      <th>1</th>\n",
       "      <td>0</td>\n",
       "      <td>Female</td>\n",
       "      <td>American Indian or Alaska Native</td>\n",
       "      <td>Motor Vehicle Traffic</td>\n",
       "      <td>Car occupant injured in collision with heavy t...</td>\n",
       "      <td>1</td>\n",
       "      <td>36615</td>\n",
       "    </tr>\n",
       "    <tr>\n",
       "      <th>2</th>\n",
       "      <td>0</td>\n",
       "      <td>Female</td>\n",
       "      <td>American Indian or Alaska Native</td>\n",
       "      <td>Motor Vehicle Traffic</td>\n",
       "      <td>Person injured in unspecified motor-vehicle ac...</td>\n",
       "      <td>1</td>\n",
       "      <td>36615</td>\n",
       "    </tr>\n",
       "    <tr>\n",
       "      <th>3</th>\n",
       "      <td>0</td>\n",
       "      <td>Female</td>\n",
       "      <td>American Indian or Alaska Native</td>\n",
       "      <td>Suffocation</td>\n",
       "      <td>Accidental suffocation and strangulation in bed</td>\n",
       "      <td>7</td>\n",
       "      <td>36615</td>\n",
       "    </tr>\n",
       "    <tr>\n",
       "      <th>4</th>\n",
       "      <td>0</td>\n",
       "      <td>Female</td>\n",
       "      <td>American Indian or Alaska Native</td>\n",
       "      <td>Suffocation</td>\n",
       "      <td>Unspecified threat to breathing</td>\n",
       "      <td>3</td>\n",
       "      <td>36615</td>\n",
       "    </tr>\n",
       "  </tbody>\n",
       "</table>\n",
       "</div>"
      ],
      "text/plain": [
       "   age  gender                              race     mechanism_of_death  \\\n",
       "0    0  Female  American Indian or Alaska Native             Fire/Flame   \n",
       "1    0  Female  American Indian or Alaska Native  Motor Vehicle Traffic   \n",
       "2    0  Female  American Indian or Alaska Native  Motor Vehicle Traffic   \n",
       "3    0  Female  American Indian or Alaska Native            Suffocation   \n",
       "4    0  Female  American Indian or Alaska Native            Suffocation   \n",
       "\n",
       "                                      cause_of_death  deaths population  \n",
       "0  Exposure to uncontrolled fire in building or s...       1      36615  \n",
       "1  Car occupant injured in collision with heavy t...       1      36615  \n",
       "2  Person injured in unspecified motor-vehicle ac...       1      36615  \n",
       "3    Accidental suffocation and strangulation in bed       7      36615  \n",
       "4                    Unspecified threat to breathing       3      36615  "
      ]
     },
     "execution_count": 6,
     "metadata": {},
     "output_type": "execute_result"
    }
   ],
   "source": [
    "df.head()"
   ]
  },
  {
   "cell_type": "code",
   "execution_count": 10,
   "metadata": {},
   "outputs": [
    {
     "data": {
      "text/plain": [
       "array(['American Indian or Alaska Native', 'Asian or Pacific Islander',\n",
       "       'Black or African American', 'White'], dtype=object)"
      ]
     },
     "execution_count": 10,
     "metadata": {},
     "output_type": "execute_result"
    }
   ],
   "source": [
    "df.race.unique()"
   ]
  },
  {
   "cell_type": "code",
   "execution_count": 11,
   "metadata": {},
   "outputs": [
    {
     "data": {
      "application/vnd.jupyter.widget-view+json": {
       "model_id": "947a24a25b06410787e4e6b6a6a8e033",
       "version_major": 2,
       "version_minor": 0
      },
      "text/plain": [
       "interactive(children=(Dropdown(description='row1', options=('American Indian or Alaska Native', 'Asian or Paci…"
      ]
     },
     "metadata": {},
     "output_type": "display_data"
    }
   ],
   "source": [
    "@interact_manual\n",
    "def collect_inputs_manual_gen(row1=df.race.unique()):\n",
    "    return \"testing\""
   ]
  },
  {
   "cell_type": "code",
   "execution_count": 19,
   "metadata": {},
   "outputs": [
    {
     "data": {
      "application/vnd.jupyter.widget-view+json": {
       "model_id": "4b687eb8fa754c699a3796d94c48885d",
       "version_major": 2,
       "version_minor": 0
      },
      "text/plain": [
       "interactive(children=(Dropdown(description='Race', options=('American Indian or Alaska Native', 'Asian or Paci…"
      ]
     },
     "metadata": {},
     "output_type": "display_data"
    }
   ],
   "source": [
    "@interact_manual\n",
    "def collect_inputs_manual_gen(Race=df.race.unique(),\n",
    "                              Age=df.age.unique(),\n",
    "                              Gender=df.gender.unique()):\n",
    "    return \"You will die of Atherosclerotic heart disease at the age of 88 years old on May 20th, 2080\"    "
   ]
  },
  {
   "cell_type": "code",
   "execution_count": null,
   "metadata": {},
   "outputs": [],
   "source": []
  },
  {
   "cell_type": "code",
   "execution_count": null,
   "metadata": {},
   "outputs": [],
   "source": []
  }
 ],
 "metadata": {
  "kernelspec": {
   "display_name": "Python 3",
   "language": "python",
   "name": "python3"
  },
  "language_info": {
   "codemirror_mode": {
    "name": "ipython",
    "version": 3
   },
   "file_extension": ".py",
   "mimetype": "text/x-python",
   "name": "python",
   "nbconvert_exporter": "python",
   "pygments_lexer": "ipython3",
   "version": "3.7.1"
  }
 },
 "nbformat": 4,
 "nbformat_minor": 2
}
